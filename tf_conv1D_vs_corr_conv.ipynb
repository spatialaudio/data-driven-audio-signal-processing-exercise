{
 "cells": [
  {
   "cell_type": "markdown",
   "id": "beb0c90c",
   "metadata": {},
   "source": [
    "Sascha Spors,\n",
    "Professorship Signal Theory and Digital Signal Processing,\n",
    "Institute of Communications Engineering (INT),\n",
    "Faculty of Computer Science and Electrical Engineering (IEF),\n",
    "University of Rostock,\n",
    "Germany\n",
    "\n",
    "# Data Driven Audio Signal Processing - A Tutorial with Computational Examples\n",
    "\n",
    "Winter Semester 2022/23 (Master Course #24512)\n",
    "\n",
    "- lecture: https://github.com/spatialaudio/data-driven-audio-signal-processing-lecture\n",
    "- tutorial: https://github.com/spatialaudio/data-driven-audio-signal-processing-exercise\n",
    "\n",
    "Feel free to contact lecturer frank.schultz@uni-rostock.de"
   ]
  },
  {
   "cell_type": "code",
   "execution_count": null,
   "id": "3f8e64ef",
   "metadata": {},
   "outputs": [],
   "source": [
    "import numpy as np\n",
    "import tensorflow as tf\n",
    "from scipy.linalg import toeplitz"
   ]
  },
  {
   "cell_type": "markdown",
   "id": "abba23ec",
   "metadata": {},
   "source": [
    "# Correlation / Convolution of 1D-Arrays\n",
    "\n",
    "- we learned about discrete-time convolution in a basic signals and systems course\n",
    "- amongst other stuff, we typically learned about LTI systems that exhibit finite impulse responses and we convolved these with finite-length discrete-time input signals to obtain finite-length output signals\n",
    "- it is a good idea to revisit this 1D convolution using the Toeplitz matrix approach, cf. https://github.com/spatialaudio/signals-and-systems-exercises/blob/master/convolution_dt/convolution_discrete_4CBF4358D5.ipynb\n",
    "and\n",
    "https://github.com/spatialaudio/signals-and-systems-exercises/blob/master/convolution_dt/convolution_discrete_FD58EEB1EC.ipynb\n",
    "- in machine learning convolution (or more specific correlation, see below) of higher-dimension arrays is a vivid part of the optimization job\n",
    "- we therefore should check what types of convolution are implemented within Tensorflow\n",
    "- it is important to realize, that most often in machine learning the wording **convolution** refers to the actual **correlation** operation. As the weights of the filters/correlators are to be learned anyway, it is actually not really important, if the input array is flipped (then performing a conv) or not (then performing a corr) before processing. We only need to be aware of it. As always it is all about the tiny details that make life easy (if being aware of the details) or hard (if not).\n",
    "- see the toy examples below to see the difference between conv and corr, and what TF is actually doing"
   ]
  },
  {
   "cell_type": "markdown",
   "id": "f81db27c",
   "metadata": {},
   "source": [
    "## Correlation / Convolution with Toeplitz matrix"
   ]
  },
  {
   "cell_type": "code",
   "execution_count": null,
   "id": "e63386f1",
   "metadata": {},
   "outputs": [],
   "source": [
    "x = np.array([0, 1, 1, 2, 0, -1, 0], dtype=np.int32)\n",
    "h = np.array([2, 1, -1], dtype=np.int32)\n",
    "\n",
    "# 0-vec with full conv length\n",
    "tmp = np.zeros(x.shape[0] + h.shape[0] - 1, dtype=np.int32)\n",
    "tmp[0:x.shape[0]] = x  # insert x\n",
    "r = np.copy(h) * 0  # prep 0-row vec as long as h\n",
    "r[0] = x[0]  # 1,1 entry of toeplitz must match 1st col entry\n",
    "A = toeplitz(tmp, r)  # create toeplitz matrix\n",
    "\n",
    "print('full correlation:', A @ np.flip(h))\n",
    "print('full convolution:', A @ h)"
   ]
  },
  {
   "cell_type": "markdown",
   "id": "3c4a0b73",
   "metadata": {},
   "source": [
    "## Correlation / Convolution with tf.nn.conv1d"
   ]
  },
  {
   "cell_type": "markdown",
   "id": "7c216ae3",
   "metadata": {},
   "source": [
    "### SAME Flag\n",
    "\n",
    "- output signal y has same length as input signal x\n",
    "- in order to realize a **full** correlation or convolution we need to zero-pad input signal x appropriately, since tf.nn.conv1d has **no 'FULL'** option\n",
    "- if not zero-padded, the algorithm yields a part of the linear corr/conv result, we need to decide if this is useful result for us!"
   ]
  },
  {
   "cell_type": "code",
   "execution_count": null,
   "id": "e7161e91",
   "metadata": {},
   "outputs": [],
   "source": [
    "# for flag='SAME' we ensure that length(x) = length(y)\n",
    "# by left/right zeropadding for x:\n",
    "x = tf.constant([0, 1, 1, 2, 0, -1, 0],\n",
    "                dtype=tf.int32, name='x')\n",
    "h = tf.constant([2, 1, -1],\n",
    "                dtype=tf.int32, name='h')"
   ]
  },
  {
   "cell_type": "markdown",
   "id": "f076d3a6",
   "metadata": {},
   "source": [
    "#### correlation"
   ]
  },
  {
   "cell_type": "code",
   "execution_count": null,
   "id": "fb522fc0",
   "metadata": {},
   "outputs": [],
   "source": [
    "data = tf.reshape(x, [1, int(x.shape[0]), 1], name='data')\n",
    "\n",
    "kernel = tf.reshape(h, [int(h.shape[0]), 1, 1], name='kernel')\n",
    "\n",
    "# conv1d is actually a correlation\n",
    "res = tf.squeeze(tf.nn.conv1d(data, kernel, 1, 'SAME'))\n",
    "res = np.array(res)\n",
    "# thus check with np.correlate\n",
    "print('  ', res)\n",
    "print('  ', np.correlate(x, h, 'SAME'))\n",
    "print(np.correlate(x, h, 'FULL'))"
   ]
  },
  {
   "cell_type": "markdown",
   "id": "1cf0249d",
   "metadata": {},
   "source": [
    "#### convolution"
   ]
  },
  {
   "cell_type": "code",
   "execution_count": null,
   "id": "8cd83695",
   "metadata": {},
   "outputs": [],
   "source": [
    "data = tf.reshape(x, [1, int(x.shape[0]), 1], name='data')\n",
    "\n",
    "# flip h to go for a real convolution\n",
    "kernel = tf.reshape(np.flip(h), [int(h.shape[0]), 1, 1], name='kernel')\n",
    "\n",
    "# conv1d with flipped h is a convolution\n",
    "res = tf.squeeze(tf.nn.conv1d(data, kernel, 1, 'SAME'))\n",
    "res = np.array(res)\n",
    "# thus check with np.convolve\n",
    "print('  ', res)\n",
    "print('  ', np.array(tf.squeeze(tf.nn.convolution(data, kernel, 1, 'SAME'))))\n",
    "print('  ', np.convolve(x, h, mode='SAME'))\n",
    "print(np.convolve(x, h, mode='FULL'))"
   ]
  },
  {
   "cell_type": "markdown",
   "id": "8caec727",
   "metadata": {},
   "source": [
    "### VALID Flag\n",
    "\n",
    "- full-overlapping part of input signal x and kernel (filter) h is considered only, we need to decide if this is useful result for us!"
   ]
  },
  {
   "cell_type": "code",
   "execution_count": null,
   "id": "a0343cee",
   "metadata": {},
   "outputs": [],
   "source": [
    "# for flag='VALID' only the full-overlapping part\n",
    "# is returned as result, thus no zero-padding\n",
    "# required\n",
    "x = tf.constant([1, 1, 2, 0, -1],\n",
    "                dtype=tf.int32, name='x')\n",
    "h = tf.constant([2, 1, -1],\n",
    "                dtype=tf.int32, name='h')"
   ]
  },
  {
   "cell_type": "markdown",
   "id": "23aee389",
   "metadata": {},
   "source": [
    "#### correlation"
   ]
  },
  {
   "cell_type": "code",
   "execution_count": null,
   "id": "c183aaaf",
   "metadata": {},
   "outputs": [],
   "source": [
    "data = tf.reshape(x, [1, int(x.shape[0]), 1], name='data')\n",
    "\n",
    "kernel = tf.reshape(h, [int(h.shape[0]), 1, 1], name='kernel')\n",
    "\n",
    "# conv1d is actually a correlation\n",
    "res = tf.squeeze(tf.nn.conv1d(data, kernel, 1, 'VALID'))\n",
    "res = np.array(res)\n",
    "# thus check with np.correlate\n",
    "print('       ', res)\n",
    "print('       ', np.correlate(x, h, 'VALID'))\n",
    "print(np.correlate(x, h, 'FULL'))"
   ]
  },
  {
   "cell_type": "markdown",
   "id": "b0bf50f6",
   "metadata": {},
   "source": [
    "#### convolution"
   ]
  },
  {
   "cell_type": "code",
   "execution_count": null,
   "id": "8e834e3f",
   "metadata": {},
   "outputs": [],
   "source": [
    "data = tf.reshape(x, [1, int(x.shape[0]), 1], name='data')\n",
    "\n",
    "# flip h to go for a real convolution\n",
    "kernel = tf.reshape(np.flip(h), [int(h.shape[0]), 1, 1], name='kernel')\n",
    "\n",
    "# conv1d with flipped h is a convolution\n",
    "res = tf.squeeze(tf.nn.conv1d(data, kernel, 1, 'VALID'))\n",
    "res = np.array(res)\n",
    "# thus check with np.convolve\n",
    "print('     ', res)\n",
    "print('     ', np.convolve(x, h, mode='VALID'))\n",
    "print(np.convolve(x, h, mode='FULL'))"
   ]
  },
  {
   "cell_type": "markdown",
   "id": "036bf2ca",
   "metadata": {},
   "source": [
    "## How to handle circular convolutions with tf.nn.conv1d?\n",
    "\n",
    "- this is probably not possible by data pre-arranging only, as the conv/corr kernel does not consider signal repetitions?!\n",
    "- do we actually need circ convs in machine learning applications?\n",
    "- when do we deal with really periodic signals in ML practice?"
   ]
  },
  {
   "cell_type": "markdown",
   "id": "8de849e1",
   "metadata": {},
   "source": [
    "## Copyright\n",
    "\n",
    "- the notebooks are provided as [Open Educational Resources](https://en.wikipedia.org/wiki/Open_educational_resources)\n",
    "- the text is licensed under [Creative Commons Attribution 4.0](https://creativecommons.org/licenses/by/4.0/)\n",
    "- the code of the IPython examples is licensed under the [MIT license](https://opensource.org/licenses/MIT)\n",
    "- feel free to use the notebooks for your own purposes\n",
    "- please attribute the work as follows: *Frank Schultz, Data Driven Audio Signal Processing - A Tutorial Featuring Computational Examples, University of Rostock* ideally with relevant file(s), github URL https://github.com/spatialaudio/data-driven-audio-signal-processing-exercise, commit number and/or version tag, year."
   ]
  }
 ],
 "metadata": {
  "kernelspec": {
   "display_name": "myddasp",
   "language": "python",
   "name": "myddasp"
  },
  "language_info": {
   "codemirror_mode": {
    "name": "ipython",
    "version": 3
   },
   "file_extension": ".py",
   "mimetype": "text/x-python",
   "name": "python",
   "nbconvert_exporter": "python",
   "pygments_lexer": "ipython3",
   "version": "3.10.6"
  }
 },
 "nbformat": 4,
 "nbformat_minor": 5
}
