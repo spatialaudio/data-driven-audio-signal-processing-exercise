{
 "cells": [
  {
   "cell_type": "markdown",
   "id": "3aef95bd-19b9-406e-a860-b1720c26d307",
   "metadata": {},
   "source": [
    "Sascha Spors,\n",
    "Professorship Signal Theory and Digital Signal Processing,\n",
    "Institute of Communications Engineering (INT),\n",
    "Faculty of Computer Science and Electrical Engineering (IEF),\n",
    "University of Rostock,\n",
    "Germany\n",
    "\n",
    "# Data Driven Audio Signal Processing - A Tutorial with Computational Examples\n",
    "\n",
    "Winter Semester 2021/22 (Master Course #24512)\n",
    "\n",
    "- lecture: https://github.com/spatialaudio/data-driven-audio-signal-processing-lecture\n",
    "- tutorial: https://github.com/spatialaudio/data-driven-audio-signal-processing-exercise\n",
    "\n",
    "Feel free to contact lecturer frank.schultz@uni-rostock.de"
   ]
  },
  {
   "cell_type": "markdown",
   "id": "46f6f98a-12a4-4bcd-975e-18a7d404cb9c",
   "metadata": {},
   "source": [
    "# Exercise 12\n",
    "CategoricalCrossentropy, i.e.\n",
    "Multi-Label Classification Using Softmax Loss\n",
    "using convenient stuff from scikit learn"
   ]
  },
  {
   "cell_type": "code",
   "execution_count": null,
   "id": "fcdf6b91-8051-4962-b5ee-c67cd6916135",
   "metadata": {},
   "outputs": [],
   "source": [
    "import matplotlib.pyplot as plt\n",
    "import numpy as np\n",
    "from sklearn.datasets import make_classification\n",
    "from sklearn.model_selection import train_test_split\n",
    "from sklearn.preprocessing import OneHotEncoder, LabelBinarizer\n",
    "import tensorflow as tf\n",
    "import tensorflow.keras as keras\n",
    "import tensorflow.keras.backend as K\n",
    "\n",
    "print('TF version', tf.__version__,\n",
    "      '\\nKeras version', keras.__version__)"
   ]
  },
  {
   "cell_type": "code",
   "execution_count": null,
   "id": "9b61644d-7f7a-493e-a918-a57cb5289565",
   "metadata": {},
   "outputs": [],
   "source": [
    "# rng = np.random.RandomState(1)  # for debug\n",
    "rng = np.random.RandomState()\n",
    "\n",
    "verbose = 1  # plot training status"
   ]
  },
  {
   "cell_type": "code",
   "execution_count": null,
   "id": "3696b9b2-a2e5-467c-a7b4-3c85fad5cd78",
   "metadata": {},
   "outputs": [],
   "source": [
    "# DATA\n",
    "nlabels = 3  # number of classes\n",
    "labels = np.arange(nlabels)\n",
    "\n",
    "m = int(5/4*80000)  # data examples\n",
    "nx = 2*nlabels  # number of features\n",
    "\n",
    "# train_size = 1/2  # 50% are used for training\n",
    "train_size = 4/5  # 80% are used for training\n",
    "# train_size = 95/100  # 95% are used for training\n",
    "\n",
    "X, Y = make_classification(n_samples=m,\n",
    "                           n_features=nx, n_informative=nx,\n",
    "                           n_redundant=0,\n",
    "                           n_classes=nlabels, n_clusters_per_class=1,\n",
    "                           class_sep=1,\n",
    "                           flip_y=1e-2,\n",
    "                           random_state=None)\n",
    "encoder = OneHotEncoder(sparse=False)\n",
    "Y = encoder.fit_transform(Y.reshape(-1, 1))\n",
    "\n",
    "X_train, X_test,\\\n",
    "    Y_train, Y_test = train_test_split(\n",
    "        X, Y, train_size=train_size, random_state=None)\n",
    "m_train = X_train.shape[0]\n",
    "m_test = X_test.shape[0]\n",
    "print('m_train', m_train)\n",
    "print('X train dim', X_train.shape, 'Y train dim', Y_train.shape)\n",
    "print('m_test', m_test)\n",
    "print('X test dim', X_test.shape, 'Y test dim', Y_test.shape, '\\n')"
   ]
  },
  {
   "cell_type": "code",
   "execution_count": null,
   "id": "2c3758b9-0960-43d6-987d-dade5ea2d41a",
   "metadata": {},
   "outputs": [],
   "source": [
    "# SETUP of TensorFlow MODEL\n",
    "# hyper parameters (should be learned as well,\n",
    "# here set for this toy example such that we end\n",
    "# up in reasonable computing time and results)\n",
    "epochs = 5\n",
    "batch_size = 32\n",
    "no_perceptron_in_hl = np.array([2*nx, 4*nx, nlabels])\n",
    "\n",
    "optimizer = keras.optimizers.Adam()\n",
    "loss = keras.losses.CategoricalCrossentropy(\n",
    "    from_logits=False, label_smoothing=0)\n",
    "metrics = [keras.metrics.CategoricalCrossentropy(),\n",
    "           keras.metrics.CategoricalAccuracy()]\n",
    "\n",
    "model = keras.Sequential()\n",
    "model.add(keras.Input(shape=(nx,)))\n",
    "# hidden layers:\n",
    "for n in no_perceptron_in_hl:\n",
    "    model.add(keras.layers.Dense(n, activation='relu'))\n",
    "# output layer with softmax for multi-label classificaton\n",
    "model.add(keras.layers.Dense(nlabels, activation='softmax'))\n",
    "model.compile(optimizer=optimizer, loss=loss, metrics=metrics)\n",
    "tw = np.sum([K.count_params(w) for w in model.trainable_weights])\n",
    "print('\\ntrainable_weights', tw, '\\n')\n",
    "print(model.summary())"
   ]
  },
  {
   "cell_type": "code",
   "execution_count": null,
   "id": "63c19519-624d-4696-a986-0f6ad5880d4c",
   "metadata": {},
   "outputs": [],
   "source": [
    "# TRAINING PHASE\n",
    "model.fit(X_train, Y_train,\n",
    "          validation_data=(X_test, Y_test),\n",
    "          epochs=epochs,\n",
    "          batch_size=batch_size,\n",
    "          verbose=verbose)\n",
    "print(model.summary())\n",
    "# print(model.get_weights())"
   ]
  },
  {
   "cell_type": "code",
   "execution_count": null,
   "id": "ce5b8a8b-fc24-43b8-adcf-3b27d731ec7f",
   "metadata": {},
   "outputs": [],
   "source": [
    "print('\\n\\nmetrics on train data:')\n",
    "results = model.evaluate(X_train, Y_train,\n",
    "                         batch_size=m_train,\n",
    "                         verbose=verbose)\n",
    "print('Cost', results[0],\n",
    "      '\\nCategoricalCrossentropy', results[1],\n",
    "      '\\nCategoricalAccuracy', results[2])\n",
    "Y_train_pred = model.predict(X_train)\n",
    "# https://stackoverflow.com/questions/48908641/how-to-get-a-single-value-from-softmax-instead-of-probability-get-confusion-ma:\n",
    "lb = LabelBinarizer()\n",
    "lb.fit(labels)\n",
    "cm = tf.math.confusion_matrix(labels=lb.inverse_transform(Y_train),\n",
    "                              predictions=lb.inverse_transform(Y_train_pred),\n",
    "                              num_classes=nlabels)\n",
    "print('confusion matrix in %\\n', cm/m_train*100)\n",
    "print('categorical_accuracy from confusion matrix = ',\n",
    "      np.sum(np.diag(cm.numpy())) / m_train * 100, '%')\n",
    "\n",
    "\n",
    "print('\\n\\nmetrics on test data:')\n",
    "results = model.evaluate(X_test, Y_test,\n",
    "                         batch_size=m_test,\n",
    "                         verbose=verbose)\n",
    "print('Cost', results[0],\n",
    "      '\\nCategoricalCrossentropy', results[1],\n",
    "      '\\nCategoricalAccuracy', results[2])\n",
    "Y_test_pred = model.predict(X_test)\n",
    "cm = tf.math.confusion_matrix(labels=lb.inverse_transform(Y_test),\n",
    "                              predictions=lb.inverse_transform(Y_test_pred),\n",
    "                              num_classes=nlabels)\n",
    "print('confusion matrix in %\\n', cm/m_test*100)\n",
    "print('categorical_accuracy from confusion matrix = ',\n",
    "      np.sum(np.diag(cm.numpy())) / m_test * 100, '%')"
   ]
  },
  {
   "cell_type": "markdown",
   "id": "34a66cab-62fd-4554-a88b-56f77fcd0cf1",
   "metadata": {},
   "source": [
    "## Copyright\n",
    "\n",
    "- the notebooks are provided as [Open Educational Resources](https://en.wikipedia.org/wiki/Open_educational_resources)\n",
    "- feel free to use the notebooks for your own purposes\n",
    "- the text is licensed under [Creative Commons Attribution 4.0](https://creativecommons.org/licenses/by/4.0/)\n",
    "- the code of the IPython examples is licensed under under the [MIT license](https://opensource.org/licenses/MIT)\n",
    "- please attribute the work as follows: *Frank Schultz, Data Driven Audio Signal Processing - A Tutorial Featuring Computational Examples, University of Rostock* ideally with relevant file(s), github URL https://github.com/spatialaudio/data-driven-audio-signal-processing-exercise, commit number and/or version tag, year."
   ]
  }
 ],
 "metadata": {
  "kernelspec": {
   "display_name": "myddasp",
   "language": "python",
   "name": "myddasp"
  },
  "language_info": {
   "codemirror_mode": {
    "name": "ipython",
    "version": 3
   },
   "file_extension": ".py",
   "mimetype": "text/x-python",
   "name": "python",
   "nbconvert_exporter": "python",
   "pygments_lexer": "ipython3",
   "version": "3.9.7"
  }
 },
 "nbformat": 4,
 "nbformat_minor": 5
}
