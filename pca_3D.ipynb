{
 "cells": [
  {
   "cell_type": "markdown",
   "id": "4ff5888c",
   "metadata": {},
   "source": [
    "Sascha Spors,\n",
    "Professorship Signal Theory and Digital Signal Processing,\n",
    "Institute of Communications Engineering (INT),\n",
    "Faculty of Computer Science and Electrical Engineering (IEF),\n",
    "University of Rostock,\n",
    "Germany\n",
    "\n",
    "# Data Driven Audio Signal Processing - A Tutorial with Computational Examples\n",
    "\n",
    "Master Course #24512\n",
    "\n",
    "- lecture: https://github.com/spatialaudio/data-driven-audio-signal-processing-lecture\n",
    "- tutorial: https://github.com/spatialaudio/data-driven-audio-signal-processing-exercise\n",
    "\n",
    "Feel free to contact lecturer frank.schultz@uni-rostock.de"
   ]
  },
  {
   "cell_type": "markdown",
   "id": "dcd5fabd",
   "metadata": {},
   "source": [
    "# Principal Component Analysis (PCA)\n",
    "\n",
    "Example in 3D, data matrix with M samples in 3 features"
   ]
  },
  {
   "cell_type": "code",
   "execution_count": null,
   "id": "b3a028b6",
   "metadata": {},
   "outputs": [],
   "source": [
    "import numpy as np\n",
    "import matplotlib.pyplot as plt\n",
    "from mpl_toolkits.mplot3d import Axes3D\n",
    "from scipy.linalg import svd, diagsvd\n",
    "from statsmodels.multivariate.pca import PCA"
   ]
  },
  {
   "cell_type": "code",
   "execution_count": null,
   "id": "5af6f2db",
   "metadata": {},
   "outputs": [],
   "source": [
    "matplotlib_widget_flag = True"
   ]
  },
  {
   "cell_type": "code",
   "execution_count": null,
   "id": "d0ccff25",
   "metadata": {},
   "outputs": [],
   "source": [
    "if matplotlib_widget_flag:\n",
    "    %matplotlib widget"
   ]
  },
  {
   "cell_type": "markdown",
   "id": "48443673",
   "metadata": {},
   "source": [
    "## Create Data and Plot in Original Coordinate System"
   ]
  },
  {
   "cell_type": "code",
   "execution_count": null,
   "id": "09b253b3",
   "metadata": {},
   "outputs": [],
   "source": [
    "rng = np.random.default_rng(1)  # be careful when changing seed\n",
    "# SVD U and V vectors might then need reflections\n",
    "# to match with statsmodels results\n",
    "# also the colored data points to indicate the PC directions might not work\n",
    "\n",
    "# we construct 3 features somehow linearly related drawn from normal PDF\n",
    "# the PCA usually assumes mean-free columns, we can design them this way:\n",
    "mean = [0, 0, 0]\n",
    "cov = [[3, 2, 0], [2, 3, 1], [0, 1, 1]]\n",
    "\n",
    "M = 200  # no of samples\n",
    "x, y, z = rng.multivariate_normal(mean, cov, M).T\n",
    "X = np.array([x, y, z]).T\n",
    "# center data to origin, remove mean\n",
    "X = X - np.mean(X, axis=0)\n",
    "N = X.shape[1]\n",
    "\n",
    "print(\"rank\", np.linalg.matrix_rank(X))\n",
    "print(\"X.shape\", X.shape)\n",
    "\n",
    "# index for specific data points to plot with specific colors\n",
    "# this helps to identify potential reflections of U and V space vectors\n",
    "di1 = 36\n",
    "di2 = 23\n",
    "di3 = 57\n",
    "\n",
    "fig = plt.figure()\n",
    "ax = fig.add_subplot(111, projection=\"3d\")\n",
    "\n",
    "ax.plot(X[:, 0], X[:, 1], X[:, 2], \"x\", color=\"gray\")\n",
    "ax.plot(X[di1, 0], X[di1, 1], X[di1, 1], \"C3x\", ms=10, mew=3)\n",
    "ax.plot(X[di2, 0], X[di2, 1], X[di2, 2], \"C2x\", ms=10, mew=3)\n",
    "ax.plot(X[di3, 0], X[di3, 1], X[di3, 2], \"C0x\", ms=10, mew=3)\n",
    "\n",
    "ax.axis(\"square\")\n",
    "ax.set_xlim(-6, 6)\n",
    "ax.set_ylim(-6, 6)\n",
    "ax.set_zlim(-6, 6)\n",
    "ax.set_xlabel(\"feature 1\")\n",
    "ax.set_ylabel(\"feature 2\")\n",
    "ax.set_zlabel(\"feature 3\")\n",
    "ax.set_title(\"original data in original coordinate system\")\n",
    "ax.grid(True)"
   ]
  },
  {
   "cell_type": "markdown",
   "id": "35eff801",
   "metadata": {},
   "source": [
    "## Calculate Principal Component Analysis (PCA)"
   ]
  },
  {
   "cell_type": "code",
   "execution_count": null,
   "id": "5ba3fd23",
   "metadata": {},
   "outputs": [],
   "source": [
    "# we work on matrix X directly (so standardize=False), and we already\n",
    "# made it mean free (so demean=False), normalize=False to give us\n",
    "# data that is nicely connected to SVD data\n",
    "# use pca from statsmodels.multivariate.pca\n",
    "pca = PCA(X, ncomp=3, standardize=False, demean=False, normalize=False)\n",
    "# using SVD\n",
    "[U, s, Vh] = svd(X, full_matrices=False)\n",
    "S = diagsvd(s, N, N)\n",
    "V = Vh.conj().T\n",
    "\n",
    "# we use the abbreviation PC for 'principal component'\n",
    "\n",
    "pcs = U @ S  # known as PC, PC signals, PC factors, PC scores\n",
    "pcl = V  # known PC loadings, PC coefficients\n",
    "var_pcs = np.var(pcs, axis=0)  # explained variances\n",
    "# note that sometimes V.T is called loadings, coefficients\n",
    "# check if statsmodels pca and our manual SVD-based PCA produce same results:\n",
    "print(np.allclose(pca.scores, pcs))\n",
    "print(np.allclose(pca.coeff.T, V))"
   ]
  },
  {
   "cell_type": "markdown",
   "id": "8f3ca3f8",
   "metadata": {},
   "source": [
    "## Indicate the Directions of the PCs (Right Sing Vectors in V, PC Loadings)"
   ]
  },
  {
   "cell_type": "code",
   "execution_count": null,
   "id": "d0cde702",
   "metadata": {},
   "outputs": [],
   "source": [
    "fig = plt.figure()\n",
    "ax = fig.add_subplot(111, projection=\"3d\")\n",
    "\n",
    "ax.plot(X[:, 0], X[:, 1], X[:, 2], \"x\", color=\"gray\")\n",
    "ax.plot(X[di1, 0], X[di1, 1], X[di1, 2], \"C3x\", mew=3)\n",
    "ax.plot(X[di2, 0], X[di2, 1], X[di2, 2], \"C2x\", mew=3)\n",
    "ax.plot(X[di3, 0], X[di3, 1], X[di3, 2], \"C0x\", mew=3)\n",
    "\n",
    "# note that not necessarily a right-hand system is spanned\n",
    "# draw direction of first PC axis -> this is the first col vec of V\n",
    "ax.plot(\n",
    "    [0, V[0, 0]],\n",
    "    [0, V[1, 0]],\n",
    "    [0, V[2, 0]],\n",
    "    \"C3\",\n",
    "    lw=3,\n",
    "    label=\"direction of 1st PC == 1st col in V, 1st right sing vec\",\n",
    ")\n",
    "# draw direction of first PC axis with magnitude of variance of first PC score\n",
    "ax.plot(\n",
    "    [0, var_pcs[0] * V[0, 0]],\n",
    "    [0, var_pcs[0] * V[1, 0]],\n",
    "    [0, var_pcs[0] * V[2, 0]],\n",
    "    \"C3\", lw=0.75)\n",
    "# draw direction of second PC axis -> this is the second col vec of V\n",
    "ax.plot(\n",
    "    [0, V[0, 1]],\n",
    "    [0, V[1, 1]],\n",
    "    [0, V[2, 1]],\n",
    "    \"C2\",\n",
    "    lw=3,\n",
    "    label=\"direction of 2nd PC == 2nd col in V, 2nd right sing vec\",\n",
    ")\n",
    "ax.plot(\n",
    "    [0, var_pcs[1] * V[0, 1]], \n",
    "    [0, var_pcs[1] * V[1, 1]], \n",
    "    [0, var_pcs[1] * V[2, 1]], \n",
    "    \"C2\", lw=0.75)\n",
    "# draw direction of third PC axis -> this is the third col vec of V\n",
    "ax.plot(\n",
    "    [0, V[0, 2]],\n",
    "    [0, V[1, 2]],\n",
    "    [0, V[2, 2]],\n",
    "    \"C0\",\n",
    "    lw=3,\n",
    "    label=\"direction of 3rd PC == 3rd col in V, 3rd right sing vec\",\n",
    ")\n",
    "ax.plot(\n",
    "    [0, var_pcs[2] * V[0, 2]], \n",
    "    [0, var_pcs[2] * V[1, 2]], \n",
    "    [0, var_pcs[2] * V[2, 2]], \n",
    "    \"C0\", lw=0.75)\n",
    "\n",
    "ax.axis(\"square\")\n",
    "ax.set_xlim(-6, 6)\n",
    "ax.set_ylim(-6, 6)\n",
    "ax.set_zlim(-6, 6)\n",
    "ax.set_xlabel(\"original feature 1\")\n",
    "ax.set_ylabel(\"original feature 2\")\n",
    "ax.set_zlabel(\"original feature 3\")\n",
    "ax.set_title(\"original data in original coordinate system\")\n",
    "ax.legend()\n",
    "ax.grid(True)"
   ]
  },
  {
   "cell_type": "markdown",
   "id": "887835b8",
   "metadata": {},
   "source": [
    "## Plot Data in PC Coordinate System"
   ]
  },
  {
   "cell_type": "code",
   "execution_count": null,
   "id": "250e1ab0",
   "metadata": {},
   "outputs": [],
   "source": [
    "fig = plt.figure()\n",
    "ax = fig.add_subplot(111, projection=\"3d\")\n",
    "\n",
    "ax.plot(pcs[:, 0], pcs[:, 1], pcs[:, 2], \"x\", color=\"gray\")\n",
    "ax.plot(pcs[di1, 0], pcs[di1, 1], pcs[di1, 2], \"C3x\", mew=3)\n",
    "ax.plot(pcs[di2, 0], pcs[di2, 1], pcs[di2, 2], \"C2x\", mew=3)\n",
    "ax.plot(pcs[di3, 0], pcs[di3, 1], pcs[di3, 2], \"C0x\", mew=3)\n",
    "\n",
    "# note that not necessarily a right-hand system is spanned\n",
    "# but we must span the same axis order as above\n",
    "# draw direction of first PC axis\n",
    "ax.plot([0, 1], [0, 0], [0, 0], \"C3\", lw=3, label=\"direction of 1st PC\")\n",
    "ax.plot([0, var_pcs[0]], [0, 0], [0, 0], \"C3\", lw=0.75)\n",
    "# draw direction of second PC axis\n",
    "ax.plot([0, 0], [0, 1], [0, 0], \"C2\", lw=3, label=\"direction of 2nd PC\")\n",
    "ax.plot([0, 0], [0, var_pcs[1]], [0, 0], \"C2\", lw=0.75)\n",
    "# draw direction of third PC axis\n",
    "ax.plot([0, 0], [0, 0], [0, 1], \"C0\", lw=3, label=\"direction of 3rd PC\")\n",
    "ax.plot([0, 0], [0, 0], [0, var_pcs[2]], \"C0\", lw=0.75)\n",
    "\n",
    "ax.axis(\"square\")\n",
    "ax.set_xlim(-6, 6)\n",
    "ax.set_ylim(-6, 6)\n",
    "ax.set_zlim(-6, 6)\n",
    "ax.set_xlabel(\"PC 1\")\n",
    "ax.set_ylabel(\"PC 2\")\n",
    "ax.set_zlabel(\"PC 3\")\n",
    "ax.set_title(\"data in PC coordinate system\")\n",
    "ax.legend()\n",
    "ax.grid(True)"
   ]
  },
  {
   "cell_type": "markdown",
   "id": "83515671",
   "metadata": {},
   "source": [
    "## Variances\n",
    "\n",
    "For rank r data matrix, the data is rotated (and potentially reflected in some axes) such that along the axis of PC 1 most variance occurs (most data spread), whereas along the axis of the r-th PC (last PC, here in the case it is PC2) has fewest variance.\n",
    "Generally, var(PC1)>var(PC2)>...>var(PCr) just as the sorting of the singular values in the SVD. Recall how we calculated `pcs`..."
   ]
  },
  {
   "cell_type": "code",
   "execution_count": null,
   "id": "9c3c5673",
   "metadata": {},
   "outputs": [],
   "source": [
    "print(np.var(pcs[:, 0], ddof=1))\n",
    "print(np.var(pcs[:, 1], ddof=1))\n",
    "print(np.var(pcs[:, 2], ddof=1))\n",
    "print(var_pcs)"
   ]
  },
  {
   "cell_type": "markdown",
   "id": "57dd72eb",
   "metadata": {},
   "source": [
    "We compare these variances to the the variances of the original features"
   ]
  },
  {
   "cell_type": "code",
   "execution_count": null,
   "id": "048ae75a",
   "metadata": {},
   "outputs": [],
   "source": [
    "print(np.var(X[:, 0], ddof=1))\n",
    "print(np.var(X[:, 1], ddof=1))\n",
    "print(np.var(X[:, 2], ddof=1))"
   ]
  },
  {
   "cell_type": "markdown",
   "id": "acc9dc56",
   "metadata": {},
   "source": [
    "Note, that we don't lose variance, we just distribute them in another way."
   ]
  },
  {
   "cell_type": "code",
   "execution_count": null,
   "id": "2f3d7d02",
   "metadata": {},
   "outputs": [],
   "source": [
    "print(\n",
    "    np.var(pcs[:, 0], ddof=1)\n",
    "    + np.var(pcs[:, 1], ddof=1)\n",
    "    + np.var(pcs[:, 2], ddof=1)\n",
    ")\n",
    "print(\n",
    "    np.var(X[:, 0], ddof=1)\n",
    "    + np.var(X[:, 1], ddof=1)\n",
    "    + np.var(X[:, 2], ddof=1)\n",
    ")"
   ]
  },
  {
   "cell_type": "markdown",
   "id": "fa963757",
   "metadata": {},
   "source": [
    "That's the fundamental idea of shaping the data to re-sort variances, here using the special case of PCA, i.e. projection of data onto vector of an orthonormal basis...our well known column space spanned in U matrix of the SVD. Variance is explained by their corresponding singular values. Recall how we calculated `pcs`...\n",
    "\n",
    "1st PC signal explains 74.63 % of total variance:"
   ]
  },
  {
   "cell_type": "code",
   "execution_count": null,
   "id": "cc848c23",
   "metadata": {},
   "outputs": [],
   "source": [
    "np.var(pcs[:, 0], ddof=1) / (\n",
    "    np.var(pcs[:, 0], ddof=1)\n",
    "    + np.var(pcs[:, 1], ddof=1)\n",
    "    + np.var(pcs[:, 2], ddof=1)\n",
    ") * 100"
   ]
  },
  {
   "cell_type": "markdown",
   "id": "c3c8918b",
   "metadata": {},
   "source": [
    "2nd PC signal explains next 21.93 % of total variance: "
   ]
  },
  {
   "cell_type": "code",
   "execution_count": null,
   "id": "fe7dbc2d",
   "metadata": {},
   "outputs": [],
   "source": [
    "np.var(pcs[:, 1], ddof=1) / (\n",
    "    np.var(pcs[:, 0], ddof=1)\n",
    "    + np.var(pcs[:, 1], ddof=1)\n",
    "    + np.var(pcs[:, 2], ddof=1)\n",
    ") * 100"
   ]
  },
  {
   "cell_type": "markdown",
   "id": "b2a9aa81",
   "metadata": {},
   "source": [
    "3nd PC signal explains the remaining 3.44 % of total variance: "
   ]
  },
  {
   "cell_type": "code",
   "execution_count": null,
   "id": "4a9c14cf",
   "metadata": {},
   "outputs": [],
   "source": [
    "np.var(pcs[:, 2], ddof=1) / (\n",
    "    np.var(pcs[:, 0], ddof=1)\n",
    "    + np.var(pcs[:, 1], ddof=1)\n",
    "    + np.var(pcs[:, 2], ddof=1)\n",
    ") * 100"
   ]
  },
  {
   "cell_type": "markdown",
   "id": "8b19e684",
   "metadata": {},
   "source": [
    "## Truncated SVD\n",
    "\n",
    "matrix rank reduction\n",
    "\n",
    "- for `r_des = 2` we reduce data information to a **plane** in **3D space**\n",
    "- for `r_des = 1` we reduce data information to a **line** in **3D space**\n"
   ]
  },
  {
   "cell_type": "code",
   "execution_count": null,
   "id": "ecd2c8d3",
   "metadata": {},
   "outputs": [],
   "source": [
    "r_des = 2  # 1 or 2 \n",
    "\n",
    "# SVD mindset:\n",
    "# we could make a sum of outer products, i.e. sum of rank-1 matrices\n",
    "X_rank_red = np.zeros((M, N))\n",
    "for i in range(r_des):\n",
    "    # either\n",
    "    # X_rank_red += S[i,i] * U[:,i][:,None] @ V[:,i][:,None].T\n",
    "    # or\n",
    "    X_rank_red += s[i] * np.outer(U[:, i], V[:, i])\n",
    "\n",
    "# PCA mindset:\n",
    "# we might also use the PC signals and set intended PC loadings to zero\n",
    "X_rank_red2 = np.zeros((M, N))\n",
    "pcl_rank_red = np.copy(pcl)\n",
    "pcl_rank_red[:, r_des:] = 0\n",
    "X_rank_red2 = pcs @ pcl_rank_red.conj().T\n",
    "\n",
    "np.allclose(X_rank_red, X_rank_red2)"
   ]
  },
  {
   "cell_type": "code",
   "execution_count": null,
   "id": "1ac13ecf",
   "metadata": {},
   "outputs": [],
   "source": [
    "fig = plt.figure()\n",
    "ax = fig.add_subplot(111, projection=\"3d\")\n",
    "\n",
    "ax.plot(\n",
    "    X_rank_red2[:, 0], X_rank_red2[:, 1], X_rank_red2[:, 2], \"x\", color=\"gray\"\n",
    ")\n",
    "ax.plot(\n",
    "    X_rank_red2[di1, 0], X_rank_red2[di1, 1], X_rank_red2[di1, 2], \"C3x\", mew=3\n",
    ")\n",
    "ax.plot(\n",
    "    X_rank_red2[di2, 0], X_rank_red2[di2, 1], X_rank_red2[di2, 2], \"C2x\", mew=3\n",
    ")\n",
    "ax.plot(\n",
    "    X_rank_red2[di3, 0], X_rank_red2[di3, 1], X_rank_red2[di3, 2], \"C0x\", mew=3\n",
    ")\n",
    "\n",
    "ax.axis(\"square\")\n",
    "ax.set_xlim(-6, 6)\n",
    "ax.set_ylim(-6, 6)\n",
    "ax.set_zlim(-6, 6)\n",
    "ax.set_xlabel(\"new feature 1 for rank reduction\")\n",
    "ax.set_ylabel(\"new feature 2 for rank reduction\")\n",
    "ax.set_zlabel(\"new feature 2 for rank reduction\")\n",
    "ax.set_title(\"rank {0:d} approximation of data\".format(r_des))\n",
    "ax.grid(True)"
   ]
  },
  {
   "cell_type": "markdown",
   "id": "4a621c65",
   "metadata": {},
   "source": [
    "## Dimensionality Reduction after PCA\n",
    "\n",
    "- for `dim_des = 2` we reduce data to a **plane** in **2D space**, it is though plotted in 3D (third variable is zero) for convenience\n",
    "- for `dim_des = 1` we reduce data to a **line** in **1D space**, it is though plotted in 3D (second and third variable is zero) for convenience"
   ]
  },
  {
   "cell_type": "code",
   "execution_count": null,
   "id": "17684636",
   "metadata": {},
   "outputs": [],
   "source": [
    "dim_des = 2  # 1 or 2\n",
    "\n",
    "# PCA mindset\n",
    "X_dim_red = np.zeros((M, dim_des))\n",
    "X_dim_red = pcs[:, :dim_des]\n",
    "print('original matrix shape     ', X.shape)\n",
    "print('matrix shape after dim red', X_dim_red.shape)\n",
    "\n",
    "X_dim_red_plot = np.zeros((M, N))\n",
    "X_dim_red_plot[:, :dim_des] = pcs[:, :dim_des]\n",
    "\n",
    "# check with SVD mindset\n",
    "np.allclose((U @ S)[:,:dim_des], X_dim_red)"
   ]
  },
  {
   "cell_type": "code",
   "execution_count": null,
   "id": "dd7e64c7",
   "metadata": {},
   "outputs": [],
   "source": [
    "# for convenience we plot data here in 3D plot\n",
    "# note however that X_dim_red_plot[:,2] is precisely zero if\n",
    "# dim_des = 2 was chosen\n",
    "# but the dimensionality reduction actually yields a matrix with smaller\n",
    "# dimension, cf. shape of X_dim_red !!!\n",
    "fig = plt.figure()\n",
    "ax = fig.add_subplot(111, projection=\"3d\")\n",
    "\n",
    "ax.plot(\n",
    "    X_dim_red_plot[:, 0],\n",
    "    X_dim_red_plot[:, 1],\n",
    "    X_dim_red_plot[:, 2],\n",
    "    \"x\",\n",
    "    color=\"gray\",\n",
    ")\n",
    "ax.plot(\n",
    "    X_dim_red_plot[di1, 0],\n",
    "    X_dim_red_plot[di1, 1],\n",
    "    X_dim_red_plot[di1, 2],\n",
    "    \"C3x\",\n",
    "    mew=3,\n",
    ")\n",
    "ax.plot(\n",
    "    X_dim_red_plot[di2, 0],\n",
    "    X_dim_red_plot[di2, 1],\n",
    "    X_dim_red_plot[di2, 2],\n",
    "    \"C2x\",\n",
    "    mew=3,\n",
    ")\n",
    "ax.plot(\n",
    "    X_dim_red_plot[di3, 0],\n",
    "    X_dim_red_plot[di3, 1],\n",
    "    X_dim_red_plot[di3, 2],\n",
    "    \"C0x\",\n",
    "    mew=3,\n",
    ")\n",
    "\n",
    "# note that we don't necessarily need to span a right-hand system\n",
    "# but we should span the same axis order as above\n",
    "# draw direction of first PC axis\n",
    "# ax.plot([0, 1], [0, 0], [0, 0], 'C3', lw=3)\n",
    "ax.plot([0, 6], [0, 0], [0, 0], \"C3\", lw=0.5, label=\"direction of 1st PC\")\n",
    "# draw direction of second PC axis\n",
    "# ax.plot([0, 0], [0, 1], [0, 0], 'C2', lw=3)\n",
    "ax.plot([0, 0], [0, 6], [0, 0], \"C2\", lw=0.5, label=\"direction of 2nd PC\")\n",
    "# draw direction of third PC axis\n",
    "# ax.plot([0, 0], [0, 0], [0, 1], 'C0', lw=3)\n",
    "ax.plot([0, 0], [0, 0], [0, 6], \"C0\", lw=0.5, label=\"direction of 3rd PC\")\n",
    "\n",
    "\n",
    "ax.axis(\"square\")\n",
    "ax.set_xlim(-6, 6)\n",
    "ax.set_ylim(-6, 6)\n",
    "ax.set_zlim(-6, 6)\n",
    "ax.set_xlabel(\"PC 1\")\n",
    "ax.set_ylabel(\"PC 2\")\n",
    "ax.set_zlabel(\"PC 3\")\n",
    "plt.title(\"PCA data dimensionality reduction to {0:d}D\".format(r_des))\n",
    "ax.legend()\n",
    "ax.grid(True)\n",
    "\n",
    "print(\"reduced to dimension\", X_dim_red.shape)"
   ]
  },
  {
   "cell_type": "markdown",
   "id": "651b1eff",
   "metadata": {},
   "source": [
    "## Copyright\n",
    "\n",
    "- the notebooks are provided as [Open Educational Resources](https://en.wikipedia.org/wiki/Open_educational_resources)\n",
    "- feel free to use the notebooks for your own purposes\n",
    "- the text is licensed under [Creative Commons Attribution 4.0](https://creativecommons.org/licenses/by/4.0/)\n",
    "- the code of the IPython examples is licensed under the [MIT license](https://opensource.org/licenses/MIT)\n",
    "- please attribute the work as follows: *Frank Schultz, Data Driven Audio Signal Processing - A Tutorial Featuring Computational Examples, University of Rostock* ideally with relevant file(s), github URL https://github.com/spatialaudio/data-driven-audio-signal-processing-exercise, commit number and/or version tag, year."
   ]
  }
 ],
 "metadata": {
  "kernelspec": {
   "display_name": "myddasp",
   "language": "python",
   "name": "myddasp"
  },
  "language_info": {
   "codemirror_mode": {
    "name": "ipython",
    "version": 3
   },
   "file_extension": ".py",
   "mimetype": "text/x-python",
   "name": "python",
   "nbconvert_exporter": "python",
   "pygments_lexer": "ipython3",
   "version": "3.10.6"
  }
 },
 "nbformat": 4,
 "nbformat_minor": 5
}
