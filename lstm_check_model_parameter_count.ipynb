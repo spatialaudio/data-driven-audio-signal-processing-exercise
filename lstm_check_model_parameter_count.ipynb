{
 "cells": [
  {
   "cell_type": "code",
   "execution_count": null,
   "metadata": {},
   "outputs": [],
   "source": [
    "import tensorflow as tf\n",
    "from tensorflow import keras\n",
    "from keras import layers"
   ]
  },
  {
   "cell_type": "code",
   "execution_count": null,
   "metadata": {},
   "outputs": [],
   "source": [
    "Nt = 4096\n",
    "Nx = 64\n",
    "Nh = 130\n",
    "\n",
    "model = keras.Sequential(\n",
    "    [\n",
    "    layers.Input(shape=(Nt, Nx)),\n",
    "    layers.LSTM(Nh, return_sequences=True)\n",
    "    ])\n",
    "model.summary()\n",
    "print(4 * Nh*Nx + 4 * Nh*Nh + 4 * Nh*1, 4 * Nh * (Nx + Nh + 1))\n",
    "\n",
    "model = keras.Sequential(\n",
    "    [\n",
    "    layers.Input(shape=(Nt, Nx)),\n",
    "    layers.Bidirectional(layers.LSTM(Nh, return_sequences=True))\n",
    "    ])\n",
    "model.summary()\n",
    "print(2 * (4 * Nh*Nx + 4 * Nh*Nh + 4 * Nh*1), 2 * 4 * Nh * (Nx + Nh + 1))\n"
   ]
  }
 ],
 "metadata": {
  "kernelspec": {
   "display_name": "myddasp",
   "language": "python",
   "name": "myddasp"
  },
  "language_info": {
   "codemirror_mode": {
    "name": "ipython",
    "version": 3
   },
   "file_extension": ".py",
   "mimetype": "text/x-python",
   "name": "python",
   "nbconvert_exporter": "python",
   "pygments_lexer": "ipython3",
   "version": "3.11.0"
  }
 },
 "nbformat": 4,
 "nbformat_minor": 4
}
