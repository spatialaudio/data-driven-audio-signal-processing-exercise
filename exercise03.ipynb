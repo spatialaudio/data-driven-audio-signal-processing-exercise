{
 "cells": [
  {
   "cell_type": "markdown",
   "id": "489c7bcd-d5b9-4a10-beb9-e58120f4758b",
   "metadata": {},
   "source": [
    "Sascha Spors,\n",
    "Professorship Signal Theory and Digital Signal Processing,\n",
    "Institute of Communications Engineering (INT),\n",
    "Faculty of Computer Science and Electrical Engineering (IEF),\n",
    "University of Rostock,\n",
    "Germany\n",
    "\n",
    "# Data Driven Audio Signal Processing - A Tutorial with Computational Examples\n",
    "\n",
    "Winter Semester 2022/23 (Master Course #24512)\n",
    "\n",
    "- lecture: https://github.com/spatialaudio/data-driven-audio-signal-processing-lecture\n",
    "- tutorial: https://github.com/spatialaudio/data-driven-audio-signal-processing-exercise\n",
    "\n",
    "Feel free to contact lecturer frank.schultz@uni-rostock.de"
   ]
  },
  {
   "cell_type": "markdown",
   "id": "201797c2-3cc5-4cce-b1b9-684286f3b759",
   "metadata": {},
   "source": [
    "# Exercise 3: Audio Features\n",
    "\n",
    "## Objectives\n",
    "\n",
    "- RMS, Peak, Crest Factor as often used, very simple features\n",
    "- DFT symmetry/redundancy for real valued audio signals\n",
    "- DFT frequency axis scaling\n",
    "- DFT graphical resolution vs. leakage effect\n"
   ]
  },
  {
   "cell_type": "code",
   "execution_count": null,
   "id": "b32735cc-931d-477d-81d5-153740c4ef17",
   "metadata": {},
   "outputs": [],
   "source": [
    "import numpy as np\n",
    "import matplotlib.pyplot as plt\n",
    "\n",
    "\n",
    "def get_rms_peak_crest(x):\n",
    "    xPeak = np.max(np.abs(x))\n",
    "    xRMS2 = x.T @ x / x.size\n",
    "    xRMS = np.sqrt(xRMS2)  # root mean square/Effektivwert\n",
    "    # 1**2 indicates reference of 1 -> squared:\n",
    "    dBRMS = 10*np.log10(xRMS**2 / 1**2)\n",
    "    # 1**2 indicates reference of 1 -> squared:\n",
    "    dBPeak = 10*np.log10(xPeak**2 / 1**2)\n",
    "    CrestFactor_dB = dBPeak - dBRMS\n",
    "    print('xMRS**2 = ', xRMS2)\n",
    "    print('xRMS = ', xRMS)\n",
    "    print('xPeak = ', xPeak)\n",
    "    print(dBRMS, 'dB_RMS')\n",
    "    print(dBPeak, 'dBPeak')\n",
    "    print('CrestFactor_dB = ', CrestFactor_dB)"
   ]
  },
  {
   "cell_type": "markdown",
   "id": "17617c1c-720c-42f1-902b-2ad00c0499f7",
   "metadata": {},
   "source": [
    "## Root Mean Square (RMS), Peak Value and Crest Factor"
   ]
  },
  {
   "cell_type": "code",
   "execution_count": null,
   "id": "a0c49d76-008a-4e7f-82f1-8d57d71f81c5",
   "metadata": {},
   "outputs": [],
   "source": [
    "# DFT eigensignal -> audio features from get_rms() match the ideal cosine values\n",
    "N = 32\n",
    "k = np.arange(N)\n",
    "mu = 2\n",
    "x = 1 * np.cos(2*np.pi/N*mu * k)\n",
    "get_rms_peak_crest(x)\n",
    "plt.stem(k, x, basefmt='C0:', linefmt='C0:', markerfmt='C0o')\n",
    "plt.xlabel('k')\n",
    "plt.ylabel('x[k]')\n",
    "plt.grid()"
   ]
  },
  {
   "cell_type": "code",
   "execution_count": null,
   "id": "2eb908d6-5f50-4752-9276-2dc699743ba5",
   "metadata": {},
   "outputs": [],
   "source": [
    "# no! DFT eigensignal -> audio features from get_rms() do NOT match the ideal cosine values\n",
    "# so for the signal in this block itself, these feature values are correct\n",
    "# but we probably need statistical signal processing methods\n",
    "# to evaluate robust features, such as e.g. variance from a random process\n",
    "# for that see https://github.com/spatialaudio/digital-signal-processing-lecture\n",
    "N = 32\n",
    "k = np.arange(N)\n",
    "mu = 2.15\n",
    "x = 1 * np.cos(2*np.pi/N*mu * k)\n",
    "get_rms_peak_crest(x)\n",
    "plt.stem(k, x, basefmt='C0:', linefmt='C0:', markerfmt='C0o')\n",
    "plt.xlabel('k')\n",
    "plt.ylabel('x[k]')\n",
    "plt.grid()"
   ]
  },
  {
   "cell_type": "code",
   "execution_count": null,
   "id": "9ac972a2-efa1-41d3-b193-e0969b7017a8",
   "metadata": {},
   "outputs": [],
   "source": [
    "# rectangular signal is the only(?!) one with RMS=Peak, and therefor 0dB crest factor\n",
    "# all other signals exhibit higher crest factor indicating RMS<Peak\n",
    "N = 16\n",
    "k = np.arange(2*N)\n",
    "mu = 1\n",
    "x = 1 * np.sin(2*np.pi/N*mu * k)\n",
    "x[x >= 0] = 1\n",
    "x[x < 0] = -1\n",
    "get_rms_peak_crest(x)\n",
    "plt.stem(k, x, basefmt='C0:', linefmt='C0:', markerfmt='C0o')\n",
    "plt.xlabel('k')\n",
    "plt.ylabel('x[k]')\n",
    "plt.grid()"
   ]
  },
  {
   "cell_type": "code",
   "execution_count": null,
   "id": "df351a76-3692-46f9-92b6-f3e4e36b06d9",
   "metadata": {},
   "outputs": [],
   "source": [
    "# noise signal -> amplitude values are drawn from a normal distribution\n",
    "# in this example we use standard normal with mean=0 and standard deviation=1\n",
    "N = 2**11\n",
    "k = np.arange(N)\n",
    "rng = np.random.default_rng(1234)\n",
    "mean, stdev = 0, 1\n",
    "x = rng.normal(mean, stdev, N)\n",
    "get_rms_peak_crest(x)\n",
    "#plt.stem(k,x, basefmt='C0:', linefmt='C0:', markerfmt='C0o')\n",
    "plt.plot(k, x, 'C0o:', ms=3)\n",
    "plt.xlabel('k')\n",
    "plt.ylabel('x[k]')\n",
    "plt.grid()\n",
    "# for this type of 'mean free' noise crest factor is typically\n",
    "# in the range of 11-13 dB\n",
    "# the actual value highly depends on the actual highest peak\n",
    "# taht occurs in the signal (note: high signal amplitudes occur\n",
    "# very rarely in the Gaussian probability density function)\n",
    "# rather than on the more robust RMS estimation"
   ]
  },
  {
   "cell_type": "code",
   "execution_count": null,
   "id": "b4f8efb1-1f18-46ba-9038-8fba167ebcc7",
   "metadata": {},
   "outputs": [],
   "source": [
    "# in statistical signal processing xMRS**2 is known as quadratic mean, cf.\n",
    "# https://github.com/spatialaudio/digital-signal-processing-exercises/blob/master/random_signals/ensemble_averages.ipynb\n",
    "# in the special case of mean=0, xMRS**2 is equal to the (biased) variance (estimator)\n",
    "# so we create a mean free signal\n",
    "x1 = x - np.mean(x)\n",
    "# and check\n",
    "get_rms_peak_crest(x1)\n",
    "print('var = ', np.var(x1, ddof=0))\n",
    "print('only here xMRS**2 == var')"
   ]
  },
  {
   "cell_type": "markdown",
   "id": "cd86cca4-436d-4171-972e-814a78a901fb",
   "metadata": {},
   "source": [
    "## DFT  Symmetry for Real Signals"
   ]
  },
  {
   "cell_type": "code",
   "execution_count": null,
   "id": "b44c0220-36fe-4e0d-a80c-4536a44fdff7",
   "metadata": {},
   "outputs": [],
   "source": [
    "def dft_sym_plot():\n",
    "    if np.mod(N, 2) == 0:\n",
    "        print('even N = ', N)\n",
    "    else:\n",
    "        print('odd N = ', N)\n",
    "    print(N//2+1, 'unique DFT bins')\n",
    "    k = np.arange(N)\n",
    "    mu = k\n",
    "    mu_base = np.arange(N//2+1)\n",
    "    rng = np.random.default_rng(1)\n",
    "    mean, stdev = 0, 1\n",
    "    x = rng.normal(mean, stdev, N)\n",
    "    X = np.fft.fft(x)/N\n",
    "\n",
    "    # power is equally stored in base band and mirrored spectrum\n",
    "    X_mag_base = 2*X[0:N//2+1]\n",
    "    # mean has only one bin, so magnitude was already correct\n",
    "    X_mag_base[0] /= 2\n",
    "    if np.mod(N, 2) == 0:  # for even DFT sizes, fs/2 frequency has only one bin\n",
    "        X_mag_base[N//2] /= 2  # so magnitude was already correct there also\n",
    "\n",
    "    plt.figure(figsize=(12, 4))\n",
    "    plt.subplot(1, 2, 1)\n",
    "    plt.stem(mu, np.abs(X), basefmt='C0:', linefmt='C0:',\n",
    "             markerfmt='C0o', label='full DFT')\n",
    "    plt.stem(mu[0:N//2+1], np.abs(X[0:N//2+1]), basefmt='C0:', linefmt='C0:',\n",
    "             markerfmt='C1o', label='base band for real valued signal')\n",
    "    plt.plot([N/2, N/2], [0, 0.5], 'C7', label='axial symmetry line')\n",
    "    plt.xlim(-1, N)\n",
    "    plt.ylim(0, 0.5)\n",
    "    plt.xlabel(r'$\\mu$')\n",
    "    plt.ylabel(r'$|X[\\mu]| / N$')\n",
    "    plt.legend(loc='upper right')\n",
    "    plt.grid()\n",
    "\n",
    "    plt.subplot(1, 2, 2)\n",
    "    plt.stem(mu_base, np.abs(X_mag_base), basefmt='C3:',\n",
    "             linefmt='C3:', markerfmt='C3o')\n",
    "    plt.xlim(-1, N)\n",
    "    plt.ylim(0, 0.5)\n",
    "    plt.xlabel(r'$\\mu$')\n",
    "    plt.ylabel(r'base band magnitude')\n",
    "    plt.grid()"
   ]
  },
  {
   "cell_type": "code",
   "execution_count": null,
   "id": "1a859459-2c44-468b-a3e5-a8a05af5153b",
   "metadata": {},
   "outputs": [],
   "source": [
    "N = 2**4\n",
    "dft_sym_plot()\n",
    "# the DFT frequency index mu = N/2 = 8 belongs to half of the sampling freqency\n",
    "# this also corresponds to DTFT frequency pi"
   ]
  },
  {
   "cell_type": "code",
   "execution_count": null,
   "id": "ed5d3c64-6aec-42a0-8a56-12a992ed09f9",
   "metadata": {},
   "outputs": [],
   "source": [
    "N = 2**4+1\n",
    "dft_sym_plot()"
   ]
  },
  {
   "cell_type": "markdown",
   "id": "3ce29802-05f7-4727-8936-328124609035",
   "metadata": {},
   "source": [
    "## DFT Frequency Axis Lin/Log and Leakage Effect Visualization"
   ]
  },
  {
   "cell_type": "code",
   "execution_count": null,
   "id": "963c8c0a-3e81-448b-8152-80148ef590ec",
   "metadata": {},
   "outputs": [],
   "source": [
    "fs = 48000  # Hz, typical audio sampling freq\n",
    "N = fs\n",
    "k = np.arange(N)\n",
    "df = fs / N\n",
    "print('df', df)\n",
    "mu = np.arange(N)  # DFT frequency index\n",
    "Om_mu = 2*np.pi/N * mu  # DTFT frequencies\n",
    "f = df * mu  # physical frequency"
   ]
  },
  {
   "cell_type": "code",
   "execution_count": null,
   "id": "cb8951db-8b91-4087-847a-8bf1cb4f74a6",
   "metadata": {},
   "outputs": [],
   "source": [
    "fsine = 1000.5\n",
    "x = np.cos(2*np.pi*fsine/fs * k)\n",
    "X = np.fft.fft(x)"
   ]
  },
  {
   "cell_type": "code",
   "execution_count": null,
   "id": "db9fd5d3-871e-4196-89a1-11fe200bbf08",
   "metadata": {},
   "outputs": [],
   "source": [
    "plt.figure(figsize=(10, 6))\n",
    "plt.subplot(2, 1, 1)\n",
    "# sloppy version of 2/N scaling!, see correct base band magnitude handling for DC, fs/2 above\n",
    "plt.plot(f, 10*np.log(np.abs(2/N*X)**2))\n",
    "# for real valued signals we typically plot only up to half of the sampling frequency\n",
    "plt.xlim(0, fs/2)\n",
    "plt.xlabel('f / Hz')\n",
    "plt.ylabel('dB (relative to sine magnitude)')\n",
    "plt.grid()\n",
    "\n",
    "plt.subplot(2, 1, 2)\n",
    "# sloppy version of 2/N scaling!, see correct base band magnitude handling for DC, fs/2 above\n",
    "plt.semilogx(f, 10*np.log(np.abs(2/N*X)**2))\n",
    "plt.xlim(1, fs/2)\n",
    "plt.xlabel('f / Hz')\n",
    "plt.ylabel('dB (relative to sine magnitude)')\n",
    "plt.grid()"
   ]
  },
  {
   "cell_type": "markdown",
   "id": "d967d5ba-6693-4765-8af1-2729cfeb011f",
   "metadata": {},
   "source": [
    "We actually see leakage effect of the rectangular window for the worst case, i.e. signal frequency is in the middle of two DFT eigenfrequencies.\n",
    "\n",
    "Due to high DFT resolution and not sufficient graphical resolution, the zeros of the spectrum (leading to $-\\infty$ dB) are not seen in the plot.\n",
    "\n",
    "To overcome this, we could perform \n",
    "- either a DFT->DTFT interpolation (the neat academic way!)\n",
    "- or zeropadding which also increases the graphical resolution of the spectrum. This is basically DFT->DTFT interpolation in a numerical manner, where we better know what we do. Zeropadding does **not** increase information on the spectrum, its all in the original DFT data!!!\n",
    "\n",
    "We might want to check https://github.com/spatialaudio/digital-signal-processing-exercises/blob/master/dft/dft_to_dtft_interpolation.ipynb\n",
    "\n",
    "So, let us perform zerodpadding.\n",
    "\n",
    "We should pay attention that the frequency vector needs recalculation, but the 2/N scaling is same as above, since we did not added new spectral information and thus added no power."
   ]
  },
  {
   "cell_type": "code",
   "execution_count": null,
   "id": "b965410b-bd87-4b4a-957c-4f3d903c55e4",
   "metadata": {},
   "outputs": [],
   "source": [
    "z = np.zeros(2**16)\n",
    "xz = np.append(x, z)\n",
    "Xz = np.fft.fft(xz)\n",
    "\n",
    "Nz = xz.size\n",
    "dfz = fs / Nz\n",
    "print('dfz', dfz)\n",
    "muz = np.arange(Nz)  # DFT frequency index\n",
    "Om_muz = 2*np.pi/Nz * muz  # DTFT frequencies\n",
    "fz = dfz * muz  # physical frequency\n",
    "\n",
    "plt.figure(figsize=(10, 6))\n",
    "plt.subplot(2, 1, 1)\n",
    "# sloppy version of 2/N scaling!, see correct base band magnitude handling for DC, fs/2 above\n",
    "plt.plot(fz, 10*np.log(np.abs(2/N*Xz)**2))\n",
    "# for real valued signals we typically plot only up to half of the sampling frequency\n",
    "plt.xlim(0, fs/2)\n",
    "plt.xlabel('f / Hz')\n",
    "plt.ylabel('dB (relative to sine magnitude)')\n",
    "plt.grid()\n",
    "\n",
    "plt.subplot(2, 1, 2)\n",
    "# sloppy version of 2/N scaling!, see correct base band magnitude handling for DC, fs/2 above\n",
    "plt.semilogx(fz, 10*np.log(np.abs(2/N*Xz)**2))\n",
    "plt.xlim(1, fs/2)\n",
    "plt.xlabel('f / Hz')\n",
    "plt.ylabel('dB (relative to sine magnitude)')\n",
    "plt.grid()"
   ]
  },
  {
   "cell_type": "markdown",
   "id": "b96bff94-6ef3-40e3-8273-2aa218d2edb7",
   "metadata": {},
   "source": [
    "## Copyright\n",
    "\n",
    "- the notebooks are provided as [Open Educational Resources](https://en.wikipedia.org/wiki/Open_educational_resources)\n",
    "- the text is licensed under [Creative Commons Attribution 4.0](https://creativecommons.org/licenses/by/4.0/)\n",
    "- the code of the IPython examples is licensed under the [MIT license](https://opensource.org/licenses/MIT)\n",
    "- feel free to use the notebooks for your own purposes\n",
    "- please attribute the work as follows: *Frank Schultz, Data Driven Audio Signal Processing - A Tutorial Featuring Computational Examples, University of Rostock* ideally with relevant file(s), github URL https://github.com/spatialaudio/data-driven-audio-signal-processing-exercise, commit number and/or version tag, year."
   ]
  }
 ],
 "metadata": {
  "kernelspec": {
   "display_name": "myddasp",
   "language": "python",
   "name": "myddasp"
  },
  "language_info": {
   "codemirror_mode": {
    "name": "ipython",
    "version": 3
   },
   "file_extension": ".py",
   "mimetype": "text/x-python",
   "name": "python",
   "nbconvert_exporter": "python",
   "pygments_lexer": "ipython3",
   "version": "3.10.6"
  }
 },
 "nbformat": 4,
 "nbformat_minor": 5
}
