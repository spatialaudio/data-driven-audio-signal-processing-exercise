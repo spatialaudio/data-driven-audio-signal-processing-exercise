{
 "cells": [
  {
   "cell_type": "markdown",
   "metadata": {},
   "source": [
    "Sascha Spors,\n",
    "Professorship Signal Theory and Digital Signal Processing,\n",
    "Institute of Communications Engineering (INT),\n",
    "Faculty of Computer Science and Electrical Engineering (IEF),\n",
    "University of Rostock,\n",
    "Germany\n",
    "\n",
    "# Data Driven Audio Signal Processing - A Tutorial with Computational Examples\n",
    "\n",
    "Winter Semester 2022/23 (Master Course #24512)\n",
    "\n",
    "- lecture: https://github.com/spatialaudio/data-driven-audio-signal-processing-lecture\n",
    "- tutorial: https://github.com/spatialaudio/data-driven-audio-signal-processing-exercise\n",
    "\n",
    "Feel free to contact lecturer frank.schultz@uni-rostock.de"
   ]
  },
  {
   "cell_type": "markdown",
   "metadata": {},
   "source": [
    "# Exercise 1: Introduction to DDASP"
   ]
  },
  {
   "cell_type": "markdown",
   "metadata": {},
   "source": [
    "We introduce the topic and set general objectives for this tutorial. We have some thoughts on best engineering practices and discuss the established procedure for structured development of data-driven methods. Useful Python packages are stated. Exemplary machine learning based audio applications are briefly outlined."
   ]
  },
  {
   "cell_type": "markdown",
   "metadata": {},
   "source": [
    "## Schedule for DDASP\n",
    "\n",
    "2022:\n",
    "- Ex 01 13.10.: Introduction / Least Squares Toy Example on Mixdown + Noise Audio \n",
    "- Ex 02 14.10.: SVD and the 4 Subspaces\n",
    "- Ex 03 27.10.:\n",
    "- Ex 04 03.10.:\n",
    "- Ex 05 10.11.:\n",
    "- Ex 06 17.11.:\n",
    "- Ex 07 24.11.:\n",
    "- Ex 08 01.12.:\n",
    "- Ex 09 08.12.:\n",
    "- Ex 10 15.12.:\n",
    "\n",
    "2023:\n",
    "- Ex 11 05.01.:\n",
    "- Ex 12 12.01.:\n",
    "- Ex 13 19.01.:\n",
    "- Ex 14 26.01.:"
   ]
  },
  {
   "cell_type": "markdown",
   "metadata": {},
   "source": [
    "## General Objective\n",
    "\n",
    "- for engineers **understanding the essence** of a concept is more important than a strict math proof\n",
    "    - as engineers we can leave proofs to mathematicians\n",
    "    - *example*: understanding the 4 matrix subspaces and the matrix (pseudo)-inverse based on the SVD is essential and need to know, in-depth proofs on this fundamental topic is nice to have\n",
    "- We should \n",
    "    - understand building blocks of machine learning for audio data processing\n",
    "    - create simple tool chains from these building blocks\n",
    "    - create simple applications from these tool chains\n",
    "    - get an impression about real industrial applications and their algorithmic and data effort\n",
    "    - get in touch with scientific literature\n",
    "        - where to find, how to read\n",
    "        - there we will find latest tool chain inventions (if published at all, a lot of stuff is either unavailable due to company secrets, or only patent specifications exist, which usually omit heavy math and important details)\n",
    "        - interpretation of results\n",
    "        - reproducibility\n",
    "        - re-inventing a tool chain\n",
    "    - get in touch with major software libraries (in Python), see below"
   ]
  },
  {
   "cell_type": "markdown",
   "metadata": {},
   "source": [
    "## Useful Python Packages\n",
    "\n",
    "- `numpy` for matrix/tensor algebra\n",
    "- `scipy` for important science math stuff\n",
    "- `matplotlib` for plotting\n",
    "- `scikit-learn` for predictive data analysis, machine learning\n",
    "- `tensorflow` deep learning with DNNs, CNNs...\n",
    "- `pytorch` deep learning with DNNs, CNNs...audio handling\n",
    "- `librosa`+`ffmpeg` music/audio analysis + en-/decoding/stream support\n",
    "- `pandas` for data handling"
   ]
  },
  {
   "cell_type": "markdown",
   "metadata": {},
   "source": [
    "## Best Engineering Practice\n",
    "\n",
    "- engineering is about creating (hopefully useful) tools by using existing tools\n",
    "- models are tools and thus perfectly fit to the engineering community \n",
    "- we should better know our used and created tools in very detail\n",
    "- aspects on responsibility, ethics, moral \n",
    "- substantially reflecting our engineering task before starting is a good idea\n",
    "    - critical reflection (higher good vs. earning money)\n",
    "    - do we really need machine support here\n",
    "    - if so, how can machines support us here, how do humans solve this task\n",
    "    - what do machines better here than humans and vice versa\n",
    "    - what is our expectation of the model perfomance\n",
    "    - handcrafted model vs. machine learned model (problem: model transparency)\n",
    "- ..."
   ]
  },
  {
   "cell_type": "markdown",
   "metadata": {},
   "source": [
    "## Established Procedure\n",
    "for structured development of data-driven methods (cf. the lecture)\n",
    "\n",
    "1. Definition of the problem and of performance measures\n",
    "2. Data preparation and feature extraction\n",
    "3. Spot check potential model architectures\n",
    "4. Model selection\n",
    "5. Evaluation and reporting\n",
    "6. Application\n",
    "\n",
    "If we lack on thinking about 1. and 2., we will almost certainly under-perform in 3. and 4., which directly affects 5. and 6. Thus, we really should take the whole chain seriously. We hopefully do this all the time in the lecture and exercise."
   ]
  },
  {
   "cell_type": "markdown",
   "metadata": {},
   "source": [
    "## Applications for Machine Learning in Audio\n",
    "\n",
    "Some examples for applications are given below. Nowadays industrial applications use a combination of different ML techniques to provide an intended consumer service. \n",
    "\n",
    "- supervised learning (mostly prediction by clustering / regression)\n",
    "    - query by humming\n",
    "    - music/genre recognition & recommendation\n",
    "    - speech recognition\n",
    "    - disease prediction by sound analysis of breathing / coughing \n",
    "    - acoustic surveillance of machines (cd. keyboard noise to text?!)\n",
    "    - gun shot / alert sound detection\n",
    "    - beam forming / direction of arrival (DOA)\n",
    "    - composing (cf. Beethoven Symphony Nr. 10)\n",
    "    - deep audio fakes (human-made vs. machine-made replica)\n",
    "    - Auto EQ (mix should sound as reference mix?!)\n",
    "- unsupervised learning (mostly clustering, dimensionality reduction)\n",
    "    - noise reduction\n",
    "    - echo cancellation\n",
    "    - feedback cancellation\n",
    "    - speech / language recognition\n",
    "    - compression\n",
    "    - feature creation (typical spectrum of pop music, classical...)\n",
    "    - feature calculation (perceived loudness, cf. replay gain adaption) \n",
    "    - key recognition\n",
    "- reinforcement learning\n",
    "    - human tasks: how to compose a hit single, how to mix a hit single"
   ]
  },
  {
   "cell_type": "markdown",
   "metadata": {},
   "source": [
    "## Ideas for Student Projects\n",
    "\n",
    "- song recognition (recognize a song out of a data base)\n",
    "- key recognition (recognize the key a song is written in)\n",
    "- chord recognition (recognize simple chords and chord progressions)\n",
    "- de-noising (reduce noise in audio material, for example to improve speech intelligibility)\n",
    "- genre classification and recommendation service"
   ]
  },
  {
   "cell_type": "markdown",
   "metadata": {},
   "source": [
    "## Copyright\n",
    "\n",
    "- the notebooks are provided as [Open Educational Resources](https://en.wikipedia.org/wiki/Open_educational_resources)\n",
    "- feel free to use the notebooks for your own purposes\n",
    "- the text is licensed under [Creative Commons Attribution 4.0](https://creativecommons.org/licenses/by/4.0/)\n",
    "- the code of the IPython examples is licensed under under the [MIT license](https://opensource.org/licenses/MIT)\n",
    "- please attribute the work as follows: *Frank Schultz, Data Driven Audio Signal Processing - A Tutorial Featuring Computational Examples, University of Rostock* ideally with relevant file(s), github URL https://github.com/spatialaudio/data-driven-audio-signal-processing-exercise, commit number and/or version tag, year.\n"
   ]
  }
 ],
 "metadata": {
  "interpreter": {
   "hash": "1743232f157dd0954c61aae30535e75a2972519a625c7e796bafe0cd9a07bf7e"
  },
  "kernelspec": {
   "display_name": "myddasp",
   "language": "python",
   "name": "myddasp"
  },
  "language_info": {
   "codemirror_mode": {
    "name": "ipython",
    "version": 3
   },
   "file_extension": ".py",
   "mimetype": "text/x-python",
   "name": "python",
   "nbconvert_exporter": "python",
   "pygments_lexer": "ipython3",
   "version": "3.10.6"
  }
 },
 "nbformat": 4,
 "nbformat_minor": 4
}
