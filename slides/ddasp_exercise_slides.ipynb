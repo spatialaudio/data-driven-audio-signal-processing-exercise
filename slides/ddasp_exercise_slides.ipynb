{
 "cells": [
  {
   "cell_type": "markdown",
   "id": "0cf5199a",
   "metadata": {},
   "source": [
    "Sascha Spors,\n",
    "Professorship Signal Theory and Digital Signal Processing,\n",
    "Institute of Communications Engineering (INT),\n",
    "Faculty of Computer Science and Electrical Engineering (IEF),\n",
    "University of Rostock,\n",
    "Germany\n",
    "\n",
    "# Data Driven Audio Signal Processing - A Tutorial with Computational Examples\n",
    "\n",
    "Master Course #24512\n",
    "\n",
    "- lecture: https://github.com/spatialaudio/data-driven-audio-signal-processing-lecture\n",
    "- tutorial: https://github.com/spatialaudio/data-driven-audio-signal-processing-exercise\n",
    "\n",
    "Feel free to contact lecturer frank.schultz@uni-rostock.de\n",
    "\n",
    "# Numerical Examples from the Slides\n",
    "handled as beamer LaTex in `slides/ddasp_exercise_slides.tex`"
   ]
  },
  {
   "cell_type": "code",
   "execution_count": null,
   "id": "d2ea275c",
   "metadata": {},
   "outputs": [],
   "source": [
    "# import usual linear algebra stuff\n",
    "# we avoid using numpy.matrix and better get used to numpy arrays and\n",
    "# deal with matrixes as special cases of numpy arrays\n",
    "# then we can more easily transfer to large data stored in tensors\n",
    "import numpy as np\n",
    "from numpy.linalg import lstsq, matrix_rank, pinv, svd\n",
    "from scipy.linalg import diagsvd"
   ]
  },
  {
   "cell_type": "markdown",
   "id": "b0275a72",
   "metadata": {},
   "source": [
    "# Toy Example 1 from Ex03 / Ex04"
   ]
  },
  {
   "cell_type": "code",
   "execution_count": null,
   "id": "d914a526",
   "metadata": {},
   "outputs": [],
   "source": [
    "C = np.array([[1, 0], [0, 2], [0, 0]])\n",
    "R = np.array([[3, 0], [0, 4]])\n",
    "X = C @ R\n",
    "M, N = X.shape"
   ]
  },
  {
   "cell_type": "code",
   "execution_count": null,
   "id": "1945f59e",
   "metadata": {},
   "outputs": [],
   "source": [
    "X"
   ]
  },
  {
   "cell_type": "code",
   "execution_count": null,
   "id": "8bb45d75",
   "metadata": {},
   "outputs": [],
   "source": [
    "R = matrix_rank(X)"
   ]
  },
  {
   "cell_type": "code",
   "execution_count": null,
   "id": "80a9c6e4",
   "metadata": {},
   "outputs": [],
   "source": [
    "R"
   ]
  },
  {
   "cell_type": "code",
   "execution_count": null,
   "id": "d8221bad",
   "metadata": {},
   "outputs": [],
   "source": [
    "[U, s, Vh] = svd(X)\n",
    "S = diagsvd(s, M, N)\n",
    "V = Vh.T.conj()"
   ]
  },
  {
   "cell_type": "code",
   "execution_count": null,
   "id": "03ff7084",
   "metadata": {},
   "outputs": [],
   "source": [
    "U"
   ]
  },
  {
   "cell_type": "code",
   "execution_count": null,
   "id": "47d67ebc",
   "metadata": {},
   "outputs": [],
   "source": [
    "S"
   ]
  },
  {
   "cell_type": "code",
   "execution_count": null,
   "id": "d87371f2",
   "metadata": {},
   "outputs": [],
   "source": [
    "V"
   ]
  },
  {
   "cell_type": "code",
   "execution_count": null,
   "id": "61509437",
   "metadata": {},
   "outputs": [],
   "source": [
    "np.allclose(U @ S @ V.T.conj(), X)"
   ]
  },
  {
   "cell_type": "code",
   "execution_count": null,
   "id": "538e1990",
   "metadata": {},
   "outputs": [],
   "source": [
    "# column space: linear combinations of\n",
    "U[:,:R]"
   ]
  },
  {
   "cell_type": "code",
   "execution_count": null,
   "id": "0f5110a4",
   "metadata": {},
   "outputs": [],
   "source": [
    "# left null space: linear combinations of\n",
    "U[:,R:]"
   ]
  },
  {
   "cell_type": "code",
   "execution_count": null,
   "id": "7e54b828",
   "metadata": {},
   "outputs": [],
   "source": [
    "# row space: linear combinations of\n",
    "V[:,:R]"
   ]
  },
  {
   "cell_type": "code",
   "execution_count": null,
   "id": "c02382fd",
   "metadata": {},
   "outputs": [],
   "source": [
    "# null space: linear combinations of\n",
    "V[:,R:]  # in our example here only the zero vector"
   ]
  },
  {
   "cell_type": "code",
   "execution_count": null,
   "id": "55d756c9",
   "metadata": {},
   "outputs": [],
   "source": [
    "Xli = pinv(X)"
   ]
  },
  {
   "cell_type": "code",
   "execution_count": null,
   "id": "3c50cfe5",
   "metadata": {},
   "outputs": [],
   "source": [
    "Xli"
   ]
  },
  {
   "cell_type": "code",
   "execution_count": null,
   "id": "9356d01e",
   "metadata": {},
   "outputs": [],
   "source": [
    "# left inverse manually within SVD domain:\n",
    "V @ pinv(S.T.conj() @ S) @ S.T.conj() @ U.T.conj()"
   ]
  },
  {
   "cell_type": "code",
   "execution_count": null,
   "id": "77582b9e",
   "metadata": {},
   "outputs": [],
   "source": [
    "y = np.array([[-3], [4], [2]])"
   ]
  },
  {
   "cell_type": "code",
   "execution_count": null,
   "id": "3caf2f2f",
   "metadata": {},
   "outputs": [],
   "source": [
    "theta_hat = Xli @ y"
   ]
  },
  {
   "cell_type": "code",
   "execution_count": null,
   "id": "d97f40e2",
   "metadata": {},
   "outputs": [],
   "source": [
    "lstsq(X,y)"
   ]
  },
  {
   "cell_type": "markdown",
   "id": "ba5e5788",
   "metadata": {},
   "source": [
    "# Toy Example 2 from Ex05"
   ]
  },
  {
   "cell_type": "code",
   "execution_count": null,
   "id": "20c0039d",
   "metadata": {},
   "outputs": [],
   "source": [
    "X = np.sqrt(2) * np.array([[1, 1], [+1/100, -1/100]])\n",
    "M, N = X.shape"
   ]
  },
  {
   "cell_type": "code",
   "execution_count": null,
   "id": "7cd50b58",
   "metadata": {},
   "outputs": [],
   "source": [
    "X"
   ]
  },
  {
   "cell_type": "code",
   "execution_count": null,
   "id": "202fd229",
   "metadata": {},
   "outputs": [],
   "source": [
    "[U, s, Vh] = svd(X)\n",
    "S = diagsvd(s, M, N)\n",
    "V = Vh.T.conj()\n",
    "U[:, 0] *= -1  # change polarity to have col space nicely aligned in xy-plane\n",
    "V[:, 0] *= -1"
   ]
  },
  {
   "cell_type": "code",
   "execution_count": null,
   "id": "bdbbe98a",
   "metadata": {},
   "outputs": [],
   "source": [
    "U"
   ]
  },
  {
   "cell_type": "code",
   "execution_count": null,
   "id": "aea3065e",
   "metadata": {},
   "outputs": [],
   "source": [
    "S"
   ]
  },
  {
   "cell_type": "code",
   "execution_count": null,
   "id": "b69b628f",
   "metadata": {},
   "outputs": [],
   "source": [
    "V"
   ]
  },
  {
   "cell_type": "code",
   "execution_count": null,
   "id": "4a27f47d",
   "metadata": {},
   "outputs": [],
   "source": [
    "# note that this is (intentionally) the simple linear combination u1 + u2\n",
    "y = np.array([[1], [1]])"
   ]
  },
  {
   "cell_type": "code",
   "execution_count": null,
   "id": "987d1d9d",
   "metadata": {},
   "outputs": [],
   "source": [
    "theta_hat = pinv(X) @ y"
   ]
  },
  {
   "cell_type": "code",
   "execution_count": null,
   "id": "27d84dd8",
   "metadata": {},
   "outputs": [],
   "source": [
    "theta_hat"
   ]
  },
  {
   "cell_type": "code",
   "execution_count": null,
   "id": "eac9392b",
   "metadata": {},
   "outputs": [],
   "source": [
    "# do the left inverse essence manually\n",
    "# (note that numpy rank-1 array handling must be circumvented by [:, None])\n",
    "(U[:, 0] @ y) / S[0, 0] * V[:, 0][:, None] + \\\n",
    "    (U[:, 1] @ y) / S[1, 1] * V[:, 1][:, None]"
   ]
  },
  {
   "cell_type": "code",
   "execution_count": null,
   "id": "a5948c65",
   "metadata": {},
   "outputs": [],
   "source": [
    "# now model some noisy y vector\n",
    "eps1, eps2 = 0.01, 0.01\n",
    "yn = np.array([[1+eps1], [1+eps2]])"
   ]
  },
  {
   "cell_type": "code",
   "execution_count": null,
   "id": "5b6d8db3",
   "metadata": {},
   "outputs": [],
   "source": [
    "theta_hatn = pinv(X) @ yn\n",
    "theta_hatn"
   ]
  },
  {
   "cell_type": "code",
   "execution_count": null,
   "id": "222a0155",
   "metadata": {},
   "outputs": [],
   "source": [
    "# again manually\n",
    "(U[:,0] @ yn) / S[0,0] * V[:,0][:, None] + \\\n",
    "    (U[:,1] @ yn) / S[1,1] * V[:,1][:, None]"
   ]
  },
  {
   "cell_type": "code",
   "execution_count": null,
   "id": "8b949ab7",
   "metadata": {},
   "outputs": [],
   "source": [
    "# we should check the contribution of eps 1 and eps2 to the solution\n",
    "# note that in this example the U^H@yn yields eps1<->u1 and eps2<->u2 relations\n",
    "# and only therefore eps1 is purely related to sigma1 and\n",
    "# eps2 is purely related to sigma2\n",
    "print(eps1 / S[0,0] * V[:, 0][:, None])\n",
    "print(eps2 / S[1,1] * V[:, 1][:, None])\n",
    "# we see that eps2 has much more impact in theta_hatn than eps1 does"
   ]
  },
  {
   "cell_type": "code",
   "execution_count": null,
   "id": "410d6ece",
   "metadata": {},
   "outputs": [],
   "source": [
    "# theta_hatn is hence a linear combination of:\n",
    "theta_hat + \\\n",
    "    eps1 / S[0, 0] * V[:, 0][:, None] + \\\n",
    "    eps2 / S[1, 1] * V[:, 1][:, None]"
   ]
  },
  {
   "cell_type": "markdown",
   "id": "5e8f91e5",
   "metadata": {},
   "source": [
    "## Copyright\n",
    "\n",
    "- the notebooks are provided as [Open Educational Resources](https://en.wikipedia.org/wiki/Open_educational_resources)\n",
    "- the text is licensed under [Creative Commons Attribution 4.0](https://creativecommons.org/licenses/by/4.0/)\n",
    "- the code of the IPython examples is licensed under the [MIT license](https://opensource.org/licenses/MIT)\n",
    "- feel free to use the notebooks for your own purposes\n",
    "- please attribute the work as follows: *Frank Schultz, Data Driven Audio Signal Processing - A Tutorial Featuring Computational Examples, University of Rostock* ideally with relevant file(s), github URL https://github.com/spatialaudio/data-driven-audio-signal-processing-exercise, commit number and/or version tag, year.\n"
   ]
  }
 ],
 "metadata": {
  "kernelspec": {
   "display_name": "myddasp",
   "language": "python",
   "name": "myddasp"
  },
  "language_info": {
   "codemirror_mode": {
    "name": "ipython",
    "version": 3
   },
   "file_extension": ".py",
   "mimetype": "text/x-python",
   "name": "python",
   "nbconvert_exporter": "python",
   "pygments_lexer": "ipython3",
   "version": "3.10.6"
  }
 },
 "nbformat": 4,
 "nbformat_minor": 5
}
