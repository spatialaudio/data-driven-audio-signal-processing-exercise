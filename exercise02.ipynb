{
 "cells": [
  {
   "cell_type": "markdown",
   "metadata": {},
   "source": [
    "Sascha Spors,\n",
    "Professorship Signal Theory and Digital Signal Processing,\n",
    "Institute of Communications Engineering (INT),\n",
    "Faculty of Computer Science and Electrical Engineering (IEF),\n",
    "University of Rostock,\n",
    "Germany\n",
    "\n",
    "# Data Driven Audio Signal Processing - A Tutorial with Computational Examples\n",
    "\n",
    "Winter Semester 2021/22 (Master Course #24512)\n",
    "\n",
    "- lecture: https://github.com/spatialaudio/data-driven-audio-signal-processing-lecture\n",
    "- tutorial: https://github.com/spatialaudio/data-driven-audio-signal-processing-exercise\n",
    "\n",
    "Feel free to contact lecturer frank.schultz@uni-rostock.de"
   ]
  },
  {
   "cell_type": "markdown",
   "metadata": {},
   "source": [
    "# Exercise 2: Audio Features\n",
    "\n",
    "## Objectives\n",
    "\n",
    "## Special Python Package\n",
    "- in this exercise we use the `pyloudnorm` package from https://github.com/csteinmetz1/pyloudnorm\n",
    "- we might install it by `pip install pyloudnorm` "
   ]
  },
  {
   "cell_type": "code",
   "execution_count": null,
   "metadata": {},
   "outputs": [],
   "source": [
    "import matplotlib.pyplot as plt\n",
    "import numpy as np\n",
    "import os\n",
    "import pyloudnorm as pyln\n",
    "import warnings\n",
    "from matplotlib.cm import get_cmap\n",
    "from matplotlib.colors import BoundaryNorm\n",
    "from scipy.io import wavfile\n",
    "from scipy.signal import resample, stft\n",
    "\n",
    "\n",
    "def set_cmap(xmax, dbrange):\n",
    "    \"\"\"cmap for STFT 20log10(|X[t,f]|) in dB.\"\"\"\n",
    "    col_tick = np.linspace(xmax-dbrange, xmax, dbrange, endpoint=True)\n",
    "    cmap = get_cmap('magma').copy()\n",
    "    cmap.set_over('C3')\n",
    "    cmap.set_under('C7')\n",
    "    norm = BoundaryNorm(col_tick, cmap.N)\n",
    "    return cmap, norm\n",
    "\n",
    "\n",
    "warnings.filterwarnings('ignore')  # annoying scipy.io.wavfile.read warnings\n",
    "\n",
    "N_OS = 8  # oversample factor\n"
   ]
  },
  {
   "cell_type": "markdown",
   "metadata": {},
   "source": [
    "## Calculate BS.1170 Loudness, True Peak and Histogram "
   ]
  },
  {
   "cell_type": "code",
   "execution_count": null,
   "metadata": {},
   "outputs": [],
   "source": [
    "folder = 'audio_ex02/'\n",
    "files = os.listdir(folder)  # get file names in this folder\n",
    "# print(files)\n",
    "\n",
    "# for debug tests choose certain files\n",
    "# files = [files[1], files[7]]\n",
    "# files = [files[7]]\n",
    "\n",
    "for i in files:\n",
    "    if i[-4:] == '.wav':  # consider only wav files\n",
    "        fs, x = wavfile.read(folder+i)\n",
    "\n",
    "        # true peak in decibel true peak (dBTP)\n",
    "        xr = resample(x, N_OS*x.shape[0])\n",
    "        dbtp = 20*np.log10(np.max(np.abs(xr)))\n",
    "\n",
    "        # normalize to desired dBTP\n",
    "        dbtp_des = 0.0\n",
    "        x *= 10**((dbtp_des - dbtp)/20)\n",
    "\n",
    "        # check dBTP\n",
    "        xr = resample(x, N_OS*x.shape[0])\n",
    "        dbtp = 20*np.log10(np.max(np.abs(xr)))\n",
    "\n",
    "        # measure loudness in\n",
    "        # 'loudness units relative to full scale' (LUFS)\n",
    "        # according to https://www.itu.int/rec/R-REC-BS.1770\n",
    "        meter = pyln.Meter(fs)\n",
    "        lufs = meter.integrated_loudness(x)\n",
    "\n",
    "        msg = (\n",
    "            f\"{'file: ' + i:<30}\"\n",
    "            f\"{'dBTP: '} {dbtp:+4.2f} \\t\"\n",
    "            f\"{'LUFS: '} {lufs:+4.2f}\"\n",
    "        )\n",
    "        print(msg)\n",
    "\n",
    "        plt.figure()\n",
    "        plt.hist(x, range=(-1, 1), bins='auto', density=True)\n",
    "        plt.title(\n",
    "            f\"{i}\"\n",
    "            f\"{', dBTP:'} {dbtp:+4.2f}\"\n",
    "            f\"{', LUFS:'} {lufs:+4.2f}\"\n",
    "        )\n",
    "        plt.xlabel('sample value')\n",
    "        plt.ylabel('density-like occurence')\n",
    "        plt.savefig(folder+i[:-4]+'_LUFS_hist.png')\n",
    "        "
   ]
  },
  {
   "cell_type": "markdown",
   "metadata": {},
   "source": [
    "## STFT Magnitude Spectrum"
   ]
  },
  {
   "cell_type": "code",
   "execution_count": null,
   "metadata": {},
   "outputs": [],
   "source": [
    "# ch = 0  # take left channel\n",
    "ch = 1  # take right channel\n",
    "\n",
    "dbrange = 72\n",
    "\n",
    "folder = 'audio_ex02/'\n",
    "files = os.listdir(folder)  # get file names in this folder\n",
    "# print(files)\n",
    "\n",
    "# for debug tests choose certain files\n",
    "# files = [files[1], files[7]]\n",
    "# files = [files[7]]\n",
    "\n",
    "for i in files:\n",
    "    if i[-4:] == '.wav':  # consider only wav files\n",
    "        fs, x = wavfile.read(folder+i)\n",
    "\n",
    "        f, t, X = stft(x[:, ch], fs, window='hamming', nperseg=2**14, nfft=2**18)\n",
    "        Xmaxdb = 20*np.log10(np.max(np.abs(X)))\n",
    "        \n",
    "        cbticks = np.arange(Xmaxdb-dbrange, Xmaxdb+6, 6)\n",
    "        cmap, norm = set_cmap(Xmaxdb, dbrange)\n",
    "        fig, ax = plt.subplots(figsize=(5, 5), nrows=1, ncols=1)\n",
    "        srf = ax.pcolormesh(t, f, 20*np.log10(np.abs(X)), cmap=cmap, norm=norm)\n",
    "        cax = plt.colorbar(srf, cmap= cmap, norm=norm, ticks=cbticks)\n",
    "        ax.set_ylim(2e1, 2e4)\n",
    "        plt.yscale('log')\n",
    "        ax.set_title('STFT Magnitude: '+i)\n",
    "        ax.set_ylabel('f / Hz')\n",
    "        ax.set_xlabel('t / s')\n",
    "        cax.ax.set_xlabel('dB')\n",
    "        plt.savefig(folder+i[:-4]+'_STFT.png')\n"
   ]
  },
  {
   "cell_type": "markdown",
   "metadata": {},
   "source": [
    "## Copyright\n",
    "\n",
    "- the notebooks are provided as [Open Educational Resources](https://en.wikipedia.org/wiki/Open_educational_resources)\n",
    "- feel free to use the notebooks for your own purposes\n",
    "- the text is licensed under [Creative Commons Attribution 4.0](https://creativecommons.org/licenses/by/4.0/)\n",
    "- the code of the IPython examples is licensed under under the [MIT license](https://opensource.org/licenses/MIT)\n",
    "- please attribute the work as follows: *Frank Schultz, Data Driven Audio Signal Processing - A Tutorial Featuring Computational Examples, University of Rostock* ideally with relevant file(s), github URL https://github.com/spatialaudio/data-driven-audio-signal-processing-exercise, commit number and/or version tag, year.\n"
   ]
  }
 ],
 "metadata": {
  "interpreter": {
   "hash": "1743232f157dd0954c61aae30535e75a2972519a625c7e796bafe0cd9a07bf7e"
  },
  "kernelspec": {
   "display_name": "Python 3.9.7 64-bit ('myddasp': conda)",
   "name": "python3"
  },
  "language_info": {
   "codemirror_mode": {
    "name": "ipython",
    "version": 3
   },
   "file_extension": ".py",
   "mimetype": "text/x-python",
   "name": "python",
   "nbconvert_exporter": "python",
   "pygments_lexer": "ipython3",
   "version": "3.9.7"
  }
 },
 "nbformat": 4,
 "nbformat_minor": 4
}
