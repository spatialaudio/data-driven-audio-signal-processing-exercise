{
 "cells": [
  {
   "cell_type": "markdown",
   "metadata": {},
   "source": [
    "Sascha Spors,\n",
    "Professorship Signal Theory and Digital Signal Processing,\n",
    "Institute of Communications Engineering (INT),\n",
    "Faculty of Computer Science and Electrical Engineering (IEF),\n",
    "University of Rostock,\n",
    "Germany\n",
    "\n",
    "# Data Driven Audio Signal Processing - A Tutorial with Computational Examples\n",
    "\n",
    "Winter Semester 2021/22 (Master Course #24512)\n",
    "\n",
    "- lecture: https://github.com/spatialaudio/data-driven-audio-signal-processing-lecture\n",
    "- tutorial: https://github.com/spatialaudio/data-driven-audio-signal-processing-exercise\n",
    "\n",
    "Feel free to contact lecturer frank.schultz@uni-rostock.de"
   ]
  },
  {
   "cell_type": "markdown",
   "metadata": {},
   "source": [
    "# Exercise 2: Audio Features\n",
    "\n",
    "- for this exercise we need the `pyloudnorm` package from https://github.com/csteinmetz1/pyloudnorm\n",
    "- we might install it by `pip install pyloudnorm` "
   ]
  },
  {
   "cell_type": "code",
   "execution_count": null,
   "metadata": {},
   "outputs": [],
   "source": [
    "import matplotlib.pyplot as plt\n",
    "import numpy as np\n",
    "import os\n",
    "import pyloudnorm as pyln\n",
    "import warnings\n",
    "from scipy.io import wavfile\n",
    "from scipy.signal import resample\n",
    "\n",
    "warnings.filterwarnings('ignore')  # annoying scipy.io.wavfile.read warnings\n",
    "\n",
    "N_OS = 8  # oversample factor\n",
    "\n",
    "folder = 'audio_ex02/'\n",
    "files = os.listdir(folder)\n",
    "\n",
    "files = [files[0], files[3]]  # for test"
   ]
  },
  {
   "cell_type": "code",
   "execution_count": null,
   "metadata": {},
   "outputs": [],
   "source": [
    "for i in files:\n",
    "    if i[-4:] == '.wav':  # consider only wav files\n",
    "        fs, x = wavfile.read(folder+i)\n",
    "\n",
    "        # measure true peak as decibel true peak (dBTP)\n",
    "        xr = resample(x, N_OS*x.shape[0])\n",
    "        truepeak = 20*np.log10(np.max(np.abs(xr)))\n",
    "\n",
    "        # normalize to desired true peak in dBTP\n",
    "        des_truepeak = 0.0\n",
    "        x *= 10**((des_truepeak - truepeak)/20)\n",
    "        xr = resample(x, N_OS*x.shape[0])\n",
    "        truepeak = 20*np.log10(np.max(np.abs(xr)))\n",
    "\n",
    "        # measure the loudness as\n",
    "        # loudness units relative to full scale (LUFS)\n",
    "        # according to https://www.itu.int/rec/R-REC-BS.1770\n",
    "        meter = pyln.Meter(fs)\n",
    "        loudness = meter.integrated_loudness(x)\n",
    "\n",
    "        msg = (\n",
    "            f\"{'audio: ' + i:<30}\"\n",
    "            f\"{'dBTP: '} {truepeak:+4.2f} \\t\"\n",
    "            f\"{'LUFS: '} {loudness:+4.2f}\"\n",
    "        )\n",
    "        print(msg)\n",
    "\n",
    "        plt.figure()\n",
    "        plt.hist(x, range=(-1, 1), bins='auto', density=True)\n",
    "        plt.title(\n",
    "            f\"{i}\"\n",
    "            f\"{', dBTP:'} {truepeak:+4.2f}\"\n",
    "            f\"{', LUFS:'} {loudness:+4.2f}\"\n",
    "        )\n",
    "        plt.xlabel('sample value')\n",
    "        plt.ylabel('density like occurence')"
   ]
  },
  {
   "cell_type": "markdown",
   "metadata": {},
   "source": [
    "## Copyright\n",
    "\n",
    "- the notebooks are provided as [Open Educational Resources](https://en.wikipedia.org/wiki/Open_educational_resources)\n",
    "- feel free to use the notebooks for your own purposes\n",
    "- the text is licensed under [Creative Commons Attribution 4.0](https://creativecommons.org/licenses/by/4.0/)\n",
    "- the code of the IPython examples is licensed under under the [MIT license](https://opensource.org/licenses/MIT)\n",
    "- please attribute the work as follows: *Frank Schultz, Data Driven Audio Signal Processing - A Tutorial Featuring Computational Examples, University of Rostock* ideally with relevant file(s), github URL https://github.com/spatialaudio/data-driven-audio-signal-processing-exercise, commit number and/or version tag, year.\n"
   ]
  }
 ],
 "metadata": {
  "kernelspec": {
   "display_name": "myddasp",
   "language": "python",
   "name": "myddasp"
  },
  "language_info": {
   "codemirror_mode": {
    "name": "ipython",
    "version": 3
   },
   "file_extension": ".py",
   "mimetype": "text/x-python",
   "name": "python",
   "nbconvert_exporter": "python",
   "pygments_lexer": "ipython3",
   "version": "3.9.7"
  }
 },
 "nbformat": 4,
 "nbformat_minor": 4
}
