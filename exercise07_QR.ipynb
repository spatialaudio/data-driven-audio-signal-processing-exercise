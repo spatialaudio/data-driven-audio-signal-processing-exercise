{
 "cells": [
  {
   "cell_type": "markdown",
   "metadata": {},
   "source": [
    "Sascha Spors,\n",
    "Professorship Signal Theory and Digital Signal Processing,\n",
    "Institute of Communications Engineering (INT),\n",
    "Faculty of Computer Science and Electrical Engineering (IEF),\n",
    "University of Rostock,\n",
    "Germany\n",
    "\n",
    "# Tutorial Selected Topics in Audio Signal Processing\n",
    "\n",
    "Master Course #24512\n",
    "\n",
    "- lecture: https://github.com/spatialaudio/selected-topics-in-audio-signal-processing-lecture\n",
    "- tutorial: https://github.com/spatialaudio/selected-topics-in-audio-signal-processing-exercises\n",
    "\n",
    "Feel free to contact lecturer frank.schultz@uni-rostock.de"
   ]
  },
  {
   "cell_type": "markdown",
   "metadata": {},
   "source": [
    "For usage of `%matplotlib widget` for convenient rotation of the 3D plot below we should `conda install -c conda-forge ipympl`, cf. [https://github.com/matplotlib/ipympl](https://github.com/matplotlib/ipympl)"
   ]
  },
  {
   "cell_type": "markdown",
   "metadata": {},
   "source": [
    "# Exercise 7: Create Orthonormal Column Space Vectors\n",
    "\n",
    "- Gram-Schmidt QR vs.\n",
    "- SVD"
   ]
  },
  {
   "cell_type": "code",
   "execution_count": null,
   "metadata": {},
   "outputs": [],
   "source": [
    "import numpy as np\n",
    "import matplotlib.pyplot as plt\n",
    "\n",
    "from scipy.linalg import inv, norm, qr, svd, svdvals\n",
    "from numpy.linalg import matrix_rank\n",
    "\n",
    "# %matplotlib widget"
   ]
  },
  {
   "cell_type": "code",
   "execution_count": null,
   "metadata": {},
   "outputs": [],
   "source": [
    "# create matrix with full rank and very congruent-like columns\n",
    "A = np.array([[0.95, 0.85, 1.05], [1.125, 0.8, 0.9], [0.925, 1.1, 0.8]])\n",
    "\n",
    "svd_equal_qr_flag = False\n",
    "if svd_equal_qr_flag:\n",
    "    # a made up example where SVD's U approx QR's Q (besides polarity!!!)\n",
    "    # note that condition number of this A is very large and\n",
    "    # ortho Q suffers from numerical precision\n",
    "    A[:, 0] = [-0.597426625235553, -0.534589417708599, -0.59774206973714]\n",
    "\n",
    "print(\"A\\n\", A)\n",
    "print(\"rank of A =\", matrix_rank(A))\n",
    "\n",
    "[u, s, vh] = svd(A)\n",
    "[q, r] = qr(A)\n",
    "print(\"Q\\n\", q)\n",
    "print(\"R\\n\", r)\n",
    "print(\"sing vals of A =\", s, \"==\\nsing vals of R =\", svdvals(r))"
   ]
  },
  {
   "cell_type": "markdown",
   "metadata": {},
   "source": [
    "### Gram-Schmidt procedure\n",
    "\n",
    "hard coded (we should program a non-hard coded 4D example to double check the projection/subtraction routine)"
   ]
  },
  {
   "cell_type": "code",
   "execution_count": null,
   "metadata": {},
   "outputs": [],
   "source": [
    "Q, R = np.zeros(A.shape), np.zeros(A.shape)\n",
    "\n",
    "# 1st q\n",
    "# polarity is free to choose, so make it consistent with qr(A)\n",
    "R[0, 0] = -norm(A[:, 0], 2)\n",
    "Q[:, 0] = A[:, 0] / R[0, 0]\n",
    "\n",
    "# 2nd q\n",
    "R[0, 1] = np.inner(Q[:, 0], A[:, 1])  # 2nd A col onto q1\n",
    "tmp = A[:, 1] - R[0, 1] * Q[:, 0]  # subtract projection\n",
    "# polarity is free to choose, so make it consistent with qr(A)\n",
    "R[1, 1] = +norm(tmp, 2)\n",
    "Q[:, 1] = tmp / R[1, 1]\n",
    "\n",
    "# 3rd q\n",
    "R[0, 2] = np.inner(Q[:, 0], A[:, 2])  # 3rd A col onto q1\n",
    "R[1, 2] = np.inner(Q[:, 1], A[:, 2])  # 3rd A col onto q2\n",
    "tmp = A[:, 2] - R[0, 2] * Q[:, 0] - R[1, 2] * Q[:, 1]  # % subtract projections\n",
    "# polarity is free to choose, so make it consistent with qr(A)\n",
    "R[2, 2] = -norm(tmp, 2)\n",
    "Q[:, 2] = tmp / R[2, 2]\n",
    "\n",
    "print(\"check if our QR == qr():\", np.allclose(r, R), np.allclose(q, Q))\n",
    "print(\n",
    "    \"check if Q is orthonormal:\",\n",
    "    np.allclose(np.eye(3), Q.T @ Q),\n",
    "    np.allclose(np.eye(3), Q @ Q.T),\n",
    "    np.allclose(inv(Q), Q.T),\n",
    ")"
   ]
  },
  {
   "cell_type": "code",
   "execution_count": null,
   "metadata": {},
   "outputs": [],
   "source": [
    "# check rank1 matrix superposition:\n",
    "# A1 has all entries, first col of A2 is zero...\n",
    "A1 = np.outer(Q[:, 0], R[0, :])\n",
    "A2 = np.outer(Q[:, 1], R[1, :])\n",
    "A3 = np.outer(Q[:, 2], R[2, :])\n",
    "\n",
    "print(A1, \"\\n\\n\", A2, \"\\n\\n\", A3)\n",
    "np.allclose(A1 + A2 + A3, A)"
   ]
  },
  {
   "cell_type": "markdown",
   "metadata": {},
   "source": [
    "### Plot the 3 columns for the differently spanned column spaces"
   ]
  },
  {
   "cell_type": "code",
   "execution_count": null,
   "metadata": {},
   "outputs": [],
   "source": [
    "fig = plt.figure()\n",
    "ax = plt.axes(projection=\"3d\")\n",
    "ax.view_init(elev=25, azim=-160)\n",
    "for n in range(2):  # plot vecs dim 1&2\n",
    "    ax.plot([0, A[0, n]], [0, A[1, n]], [0, A[2, n]], \"C0\", lw=1)\n",
    "    ax.plot([0, u[0, n]], [0, u[1, n]], [0, u[2, n]], \"C1\", lw=2)\n",
    "    ax.plot([0, q[0, n]], [0, q[1, n]], [0, q[2, n]], \"C3\", lw=3)\n",
    "# plot vecs dim 3, add label\n",
    "ax.plot([0, A[0, 2]], [0, A[1, 2]], [0, A[2, 2]], \"C0\", lw=1, label=\"A\")\n",
    "ax.plot([0, u[0, 2]], [0, u[1, 2]], [0, u[2, 2]], \"C1\", lw=2, label=\"SVD U\")\n",
    "ax.plot(\n",
    "    [0, q[0, 2]], [0, q[1, 2]], [0, q[2, 2]], \"C3\", lw=3, label=\"Gram-Schmidt Q\"\n",
    ")\n",
    "ax.set_xlim(-1.2, 1.2)\n",
    "ax.set_ylim(-1.2, 1.2)\n",
    "ax.set_zlim(-1.2, 1.2)\n",
    "ax.set_xlabel(\"x\")\n",
    "ax.set_ylabel(\"y\")\n",
    "ax.set_zlabel(\"z\")\n",
    "ax.legend()"
   ]
  },
  {
   "cell_type": "code",
   "execution_count": null,
   "metadata": {},
   "outputs": [],
   "source": [
    "plt.close(fig)"
   ]
  },
  {
   "cell_type": "markdown",
   "metadata": {},
   "source": [
    "## Copyright\n",
    "\n",
    "- the notebooks are provided as [Open Educational Resources](https://en.wikipedia.org/wiki/Open_educational_resources)\n",
    "- the text is licensed under [Creative Commons Attribution 4.0](https://creativecommons.org/licenses/by/4.0/)\n",
    "- the code of the IPython examples is licensed under the [MIT license](https://opensource.org/licenses/MIT)\n",
    "- feel free to use the notebooks for your own purposes\n",
    "- please attribute the work as follows: *Frank Schultz, Data Driven Audio Signal Processing - A Tutorial Featuring Computational Examples, University of Rostock* ideally with relevant file(s), github URL https://github.com/spatialaudio/data-driven-audio-signal-processing-exercise, commit number and/or version tag, year."
   ]
  }
 ],
 "metadata": {
  "interpreter": {
   "hash": "1743232f157dd0954c61aae30535e75a2972519a625c7e796bafe0cd9a07bf7e"
  },
  "kernelspec": {
   "display_name": "myddasp",
   "language": "python",
   "name": "myddasp"
  },
  "language_info": {
   "codemirror_mode": {
    "name": "ipython",
    "version": 3
   },
   "file_extension": ".py",
   "mimetype": "text/x-python",
   "name": "python",
   "nbconvert_exporter": "python",
   "pygments_lexer": "ipython3",
   "version": "3.10.6"
  }
 },
 "nbformat": 4,
 "nbformat_minor": 4
}
