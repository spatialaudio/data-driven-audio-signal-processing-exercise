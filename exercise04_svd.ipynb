{
 "cells": [
  {
   "cell_type": "code",
   "execution_count": null,
   "metadata": {},
   "outputs": [],
   "source": [
    "from IPython import display"
   ]
  },
  {
   "cell_type": "markdown",
   "metadata": {},
   "source": [
    "Sascha Spors,\n",
    "Professorship Signal Theory and Digital Signal Processing,\n",
    "Institute of Communications Engineering (INT),\n",
    "Faculty of Computer Science and Electrical Engineering (IEF),\n",
    "University of Rostock,\n",
    "Germany\n",
    "\n",
    "# Data Driven Audio Signal Processing - A Tutorial with Computational Examples\n",
    "\n",
    "Winter Semester 2021/22 (Master Course #24512)\n",
    "\n",
    "- lecture: https://github.com/spatialaudio/data-driven-audio-signal-processing-lecture\n",
    "- tutorial: https://github.com/spatialaudio/data-driven-audio-signal-processing-exercise\n",
    "\n",
    "Feel free to contact lecturer frank.schultz@uni-rostock.de"
   ]
  },
  {
   "cell_type": "markdown",
   "metadata": {},
   "source": [
    "# Exercise 4: Singular Value Decomposition\n",
    "\n",
    "## Objectives\n",
    "\n",
    "- SVD\n",
    "- Four subspaces in SVD domain\n",
    "- Rank-1 matrix superposition\n",
    "\n",
    "## Special Python Packages\n",
    "\n",
    "Some convenient functions are found in `scipy.linalg`, some in `numpy.linalg` \n",
    "\n",
    "## Highly Recommended Material\n",
    "- Kenji Hiranabe's [Graphic notes on Gilbert Strang's \"Linear Algebra for Everyone\"](https://github.com/kenjihiranabe/The-Art-of-Linear-Algebra/blob/main/The-Art-of-Linear-Algebra.pdf)\n",
    "\n",
    "- Gilbert Strang's [Zoom Notes for Linear Algebra, 2021](https://ocw.mit.edu/courses/mathematics/18-06sc-linear-algebra-fall-2011/related-resources/MIT18_06SCF11_ZoomNotes.pdf) or [Lecture Notes for Linear Algebra Sample Sections](https://math.mit.edu/~gs/LectureNotes/samples.pdf)\n",
    "or his [brilliant textbooks on linear algebra](http://www-math.mit.edu/~gs/)"
   ]
  },
  {
   "cell_type": "markdown",
   "metadata": {},
   "source": [
    "## Some Initial Python Stuff"
   ]
  },
  {
   "cell_type": "code",
   "execution_count": null,
   "metadata": {},
   "outputs": [],
   "source": [
    "import numpy as np\n",
    "from scipy.linalg import svd, diagsvd, inv, pinv, null_space, norm\n",
    "from numpy.linalg import matrix_rank\n",
    "\n",
    "np.set_printoptions(precision=2, floatmode='fixed', suppress=True)\n",
    "\n",
    "rng = np.random.default_rng(1234)\n",
    "mean, stdev = 0, 1\n",
    "\n",
    "# we might try out that all works for complex data as well\n",
    "# for complex data the ^H operator (conj().T) needs used instead of .T only!!!\n",
    "use_complex = False"
   ]
  },
  {
   "cell_type": "markdown",
   "metadata": {},
   "source": [
    "## SVD of Matrix A"
   ]
  },
  {
   "cell_type": "code",
   "execution_count": null,
   "metadata": {},
   "outputs": [],
   "source": [
    "M = 7  # number of rows\n",
    "N = 4  # number of cols\n",
    "\n",
    "# set desired rank, here N-1 for a rank deficient matrix,\n",
    "# i.e. neither full column nor full row rank\n",
    "rank = min(M, N) - 1\n",
    "print('desired rank of A:', rank)\n",
    "\n",
    "if use_complex:\n",
    "    dtype = 'complex128'\n",
    "    A = np.zeros([M, N], dtype=dtype)\n",
    "    for i in range(rank):\n",
    "        col = rng.normal(mean, stdev, M) + 1j*rng.normal(mean, stdev, M)\n",
    "        row = rng.normal(mean, stdev, N) + 1j*rng.normal(mean, stdev, N)\n",
    "        A += np.outer(col, row)  # superposition of rank-1 matrices\n",
    "else:\n",
    "    dtype = 'float64'\n",
    "    A = np.zeros([M, N], dtype=dtype)\n",
    "    for i in range(rank):\n",
    "        col = rng.normal(mean, stdev, M)\n",
    "        row = rng.normal(mean, stdev, N)\n",
    "        A += np.outer(col, row)  # superposition of rank-1 matrices\n",
    "# check if rng produced desired matrix rank\n",
    "print('        rank of A:', matrix_rank(A))\n",
    "print('A =\\n', A)"
   ]
  },
  {
   "cell_type": "code",
   "execution_count": null,
   "metadata": {},
   "outputs": [],
   "source": [
    "[U, s, Vh] = svd(A)\n",
    "S = diagsvd(s, M, N)\n",
    "V = Vh.conj().T\n",
    "\n",
    "print('U =\\n', U)\n",
    "# number of non-zero sing values along diag must match rank\n",
    "print('non-zero singular values: ', s[:rank])\n",
    "print('S =\\n', S)\n",
    "print('V =\\n', V)"
   ]
  },
  {
   "cell_type": "code",
   "execution_count": null,
   "metadata": {},
   "outputs": [],
   "source": [
    "from IPython.display import Image\n",
    "# image from the brilliant project Kenji Hiranabe: Graphic notes on Gilbert Strang's \"Linear Algebra for Everyone\"\n",
    "# found at https://github.com/kenjihiranabe/The-Art-of-Linear-Algebra\n",
    "# CC0-1.0 License\n",
    "Image('https://github.com/kenjihiranabe/The-Art-of-Linear-Algebra/raw/main/SVD.png')"
   ]
  },
  {
   "cell_type": "markdown",
   "metadata": {},
   "source": [
    "## Four Subspaces in the SVD Domain\n",
    "\n",
    "We denote \n",
    "- column space $C(\\mathbf{A})$, aka image, range\n",
    "- left null space $N(\\mathbf{A}^\\mathrm{H})$\n",
    "- row space $C(\\mathbf{A}^\\mathrm{H})$\n",
    "- null space $N(\\mathbf{A})$, aka kernel\n",
    "\n",
    "The vectors of column space $C(\\mathbf{A})$ and left null space $N(\\mathbf{A}^\\mathrm{H})$ are related to the matrix $\\mathbf{U}$.\n",
    "\n",
    "The vectors of row space $C(\\mathbf{A}^\\mathrm{H})$ and null space $N(\\mathbf{A})$ are related to the matrix $\\mathbf{V}$.\n",
    "\n",
    "Since $\\mathbf{U}$ and $\\mathbf{V}$ are unitary matrices, they fulfill **orthonormality** and therefore the properties of orthogonal subspaces\n",
    "\n",
    "$C(\\mathbf{A}) \\perp N(\\mathbf{A}^\\mathrm{H})$\n",
    "\n",
    "$C(\\mathbf{A}^\\mathrm{H}) \\perp N(\\mathbf{A})$\n",
    "\n",
    "immediately can be deduced. In other words, since we know by the property of SVD, that the matrices $\\mathbf{U}$ and $\\mathbf{V}$ are orthonormal, we see that\n",
    "\n",
    "- column space is orthogonal to left null space, since both spaces are spanned by the dedicated vectors in $\\mathbf{U}$\n",
    "- row space is orthogonal to null space, since both spaces are spanned by the dedicated vectors in $\\mathbf{V}$"
   ]
  },
  {
   "cell_type": "code",
   "execution_count": null,
   "metadata": {},
   "outputs": [],
   "source": [
    "# image from the brilliant project Kenji Hiranabe: Graphic notes on Gilbert Strang's \"Linear Algebra for Everyone\"\n",
    "# found at https://github.com/kenjihiranabe/The-Art-of-Linear-Algebra\n",
    "# CC0-1.0 License\n",
    "Image('https://github.com/kenjihiranabe/The-Art-of-Linear-Algebra/raw/main/4-Subspaces.png')"
   ]
  },
  {
   "cell_type": "code",
   "execution_count": null,
   "metadata": {},
   "outputs": [],
   "source": [
    "# all stuff that is in matrix U\n",
    "print('U =\\n', U)\n",
    "\n",
    "# Column Space C(A)\n",
    "print('\\ncolumn space (ortho to left null space):')\n",
    "print(U[:, :rank])\n",
    "\n",
    "# Left Null Space, if empty only 0 vector\n",
    "print('left null space (ortho to column space):')\n",
    "print('\\t', U[:, rank:])\n",
    "\n",
    "print('###')\n",
    "\n",
    "# all stuff that is in matrix V\n",
    "print('\\nV =\\n', V)\n",
    "\n",
    "# Row Space\n",
    "print('\\nrow space (ortho to null space):')\n",
    "print(V[:, :rank])\n",
    "\n",
    "# Null Space N(A), if empty only 0 vector\n",
    "print('null space (ortho to row space):')\n",
    "print(V[:, rank:])"
   ]
  },
  {
   "cell_type": "code",
   "execution_count": null,
   "metadata": {},
   "outputs": [],
   "source": [
    "# try null_space() function\n",
    "# this very often yields the same vectors as doing the SVD manually\n",
    "print('Null Space: \\n', null_space(A))\n",
    "# might be different from U[:,rank:], but spans the same space, we might want to check this\n",
    "print('Left Null Space: \\n', null_space(A.conj().T))"
   ]
  },
  {
   "cell_type": "markdown",
   "metadata": {},
   "source": [
    "## Pure Row Space --> Column Space"
   ]
  },
  {
   "cell_type": "code",
   "execution_count": null,
   "metadata": {},
   "outputs": [],
   "source": [
    "# x as linear combination of first two right singular vectors, i.e. from the row space\n",
    "x = V[:, 0] + V[:, 1]\n",
    "# let matrix A act on x\n",
    "print(A @ x)\n",
    "# must be identical with linear combination of first two left singular vectors with singular value scaling\n",
    "# i.e. from the column space\n",
    "print(S[0, 0] * U[:, 0] + S[1, 1] * U[:, 1])"
   ]
  },
  {
   "cell_type": "markdown",
   "metadata": {},
   "source": [
    "## Row Space + Null Space --> Column Space + Null Vector"
   ]
  },
  {
   "cell_type": "code",
   "execution_count": null,
   "metadata": {},
   "outputs": [],
   "source": [
    "# x as linear combination of row space and null space\n",
    "x_r = V[:, 0]  # from row space\n",
    "x_n = V[:, rank]  # from null space\n",
    "x = x_r + x_n\n",
    "# let matrix A act on x\n",
    "print(A @ x_r)\n",
    "print(A @ x)\n",
    "# must be identical with linear combination of first two left singular vectors with singular value scaling\n",
    "# i.e. from the column space\n",
    "print(S[0, 0] * U[:, 0])\n",
    "print('x from null space must yield zero vector:')\n",
    "print(A @ x_n)"
   ]
  },
  {
   "cell_type": "markdown",
   "metadata": {},
   "source": [
    "## Superposition of Rank-1 Matrices\n",
    "\n",
    "Eckhart-Young theorem, cf. https://en.wikipedia.org/wiki/Low-rank_approximation"
   ]
  },
  {
   "cell_type": "code",
   "execution_count": null,
   "metadata": {},
   "outputs": [],
   "source": [
    "Ar = np.zeros([M, N], dtype='complex128')\n",
    "for r in range(rank):\n",
    "    print('\\nSum of', r+1, 'rank-1 matrices -> check (A-Ar)')\n",
    "    Ar += S[r, r] * np.outer(U[:, r], V[:, r].conj())\n",
    "    print('Frobenius norm (i.e. root(sum squared sing val)): ', norm(A-Ar, 'fro'))\n",
    "    print('Spectral norm / L2 norm (i.e. sigma1)', norm(A-Ar, 2))"
   ]
  },
  {
   "cell_type": "markdown",
   "metadata": {},
   "source": [
    "In the last case `Ar` is fully reconstructed from rank-1 matrices, yielding Frobenius and spectral norm for `A-Ar` of 0 (numerical precision does not give us zero)."
   ]
  },
  {
   "cell_type": "code",
   "execution_count": null,
   "metadata": {},
   "outputs": [],
   "source": [
    "A-Ar"
   ]
  },
  {
   "cell_type": "markdown",
   "metadata": {},
   "source": [
    "## Copyright\n",
    "\n",
    "- the notebooks are provided as [Open Educational Resources](https://en.wikipedia.org/wiki/Open_educational_resources)\n",
    "- feel free to use the notebooks for your own purposes\n",
    "- the text is licensed under [Creative Commons Attribution 4.0](https://creativecommons.org/licenses/by/4.0/)\n",
    "- the code of the IPython examples is licensed under under the [MIT license](https://opensource.org/licenses/MIT)\n",
    "- please attribute the work as follows: *Frank Schultz, Data Driven Audio Signal Processing - A Tutorial Featuring Computational Examples, University of Rostock* ideally with relevant file(s), github URL https://github.com/spatialaudio/data-driven-audio-signal-processing-exercise, commit number and/or version tag, year.\n"
   ]
  }
 ],
 "metadata": {
  "interpreter": {
   "hash": "1743232f157dd0954c61aae30535e75a2972519a625c7e796bafe0cd9a07bf7e"
  },
  "kernelspec": {
   "display_name": "myddasp",
   "language": "python",
   "name": "myddasp"
  },
  "language_info": {
   "codemirror_mode": {
    "name": "ipython",
    "version": 3
   },
   "file_extension": ".py",
   "mimetype": "text/x-python",
   "name": "python",
   "nbconvert_exporter": "python",
   "pygments_lexer": "ipython3",
   "version": "3.9.7"
  }
 },
 "nbformat": 4,
 "nbformat_minor": 4
}
