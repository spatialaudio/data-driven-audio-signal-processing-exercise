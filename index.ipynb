{
 "cells": [
  {
   "cell_type": "markdown",
   "metadata": {},
   "source": [
    "Sascha Spors,\n",
    "Professorship Signal Theory and Digital Signal Processing,\n",
    "Institute of Communications Engineering (INT),\n",
    "Faculty of Computer Science and Electrical Engineering (IEF),\n",
    "University of Rostock,\n",
    "Germany\n",
    "\n",
    "# Data Driven Audio Signal Processing - A Tutorial with Computational Examples\n",
    "\n",
    "Winter Semester 2021/22 (Master Course #24512)\n",
    "\n",
    "- lecture: https://github.com/spatialaudio/data-driven-audio-signal-processing-lecture\n",
    "- tutorial: https://github.com/spatialaudio/data-driven-audio-signal-processing-exercise\n",
    "\n",
    "Feel free to contact lecturer frank.schultz@uni-rostock.de"
   ]
  },
  {
   "cell_type": "markdown",
   "metadata": {},
   "source": [
    "## Exercise 1: Introduction\n",
    "[Introduction](exercise01.ipynb)"
   ]
  },
  {
   "cell_type": "markdown",
   "metadata": {},
   "source": [
    "## Exercise 2: Audio Features I (Segmentation, STFT, Spectrogram, Periodogram)\n",
    "\n",
    "[Audio Features I](exercise02.ipynb)"
   ]
  },
  {
   "cell_type": "markdown",
   "metadata": {},
   "source": [
    "## Exercise 3: Audio Features II (Segmentation, RMS/(True)Peak/Crest Factor, R128 loudness)\n",
    "\n",
    "[Audio Features II](exercise03.ipynb)"
   ]
  },
  {
   "cell_type": "markdown",
   "metadata": {},
   "source": [
    "## Exercise 4: SVD / 4 Subspaces / Left Inverse\n",
    "\n",
    "- [SVD and 4 Subspaces](exercise04_svd.ipynb)\n",
    "- [SVD and Left Inverse](exercise04_leftinv.ipynb)\n",
    "- [SVD and Right Inverse](exercise04_rightinv.ipynb)"
   ]
  },
  {
   "cell_type": "markdown",
   "metadata": {},
   "source": [
    "## Exercise 5: Column Space Singular Vectors of a Multitrack Audio Matrix \n",
    "\n",
    "- [exercise05.ipynb](exercise05.ipynb)"
   ]
  },
  {
   "cell_type": "markdown",
   "metadata": {},
   "source": [
    "## Exercise 6: Principal Component Analysis (PCA)\n",
    "\n",
    "- Matlab code:\n",
    "    - [exercise06_pca_2D.m](exercise06_pca_2D.m)\n",
    "    - [exercise06_pca_3D.m](exercise06_pca_3D.m)\n",
    "- Python notebooks TBD\n",
    "    \n"
   ]
  },
  {
   "cell_type": "markdown",
   "metadata": {},
   "source": [
    "## Exercise 7: QR, SVD, Linear Regression vs. SVD Regression\n",
    "\n",
    "- [exercise07_QR.ipynb](exercise07_QR.ipynb)\n",
    "- [exercise07_left_inverse_SVD_QR.ipynb](exercise07_left_inverse_SVD_QR.ipynb)\n",
    "- [exercise07_linear_regression_LS_vs_SVD.ipynb](exercise07_linear_regression_LS_vs_SVD.ipynb)"
   ]
  },
  {
   "cell_type": "markdown",
   "metadata": {},
   "source": [
    "## Exercise 8: Ridge Regression / Bias vs. Variance\n",
    "\n",
    "- [exercise08_ridge_regression.ipynb](exercise08_ridge_regression.ipynb)\n",
    "- [exercise08_bias_variance.ipynb](exercise08_bias_variance.ipynb)\n"
   ]
  },
  {
   "cell_type": "markdown",
   "metadata": {},
   "source": [
    "## Exercise 9: Gradient Descent (Steepest Descent)\n",
    "\n",
    "- [exercise09_gradient_descent.m](exercise09_gradient_descent.m)\n"
   ]
  },
  {
   "cell_type": "markdown",
   "metadata": {},
   "source": [
    "## Exercise 10: Perceptron / Neural Networks\n",
    "\n",
    "- The XOR mapping is a popular example to motivate non-linearities in models, as linear regression cannot solve this simple problem in [exercise10_xor_example.m](exercise10_xor_example.m)\n",
    "- Our own implementation of simple **0/1 classification** using only **one layer** with **sigmoid activation** function [exercise10_binary_logistic_regression.py](exercise10_binary_logistic_regression.py)\n",
    "\n",
    "We should not miss these brilliant resources to start with neural networks\n",
    "- [https://pythonalgos.com/create-a-neural-network-from-scratch-in-python-3/](https://pythonalgos.com/create-a-neural-network-from-scratch-in-python-3/)\n",
    "- [https://playground.tensorflow.org](https://playground.tensorflow.org)\n",
    "- https://www.tensorflow.org/tutorials/keras/overfit_and_underfit (and the other tutorials found there)"
   ]
  },
  {
   "cell_type": "markdown",
   "metadata": {},
   "source": [
    "## Exercise 11: Binary Classification\n",
    "\n",
    "- With [exercise11_binary_logistic_regression_tf.py](exercise11_binary_logistic_regression_tf.py) we **compare our** above implementation [exercise10_binary_logistic_regression.py](exercise10_binary_logistic_regression.py) **against a TF model**\n",
    "- Next, we create more complex models in [exercise11_binary_logistic_regression_tf_with_hidden_layers.py](exercise11_binary_logistic_regression_tf_with_hidden_layers.py) using **hidden layers**, but still with **manually tuned hyper parameters**\n",
    "\n"
   ]
  },
  {
   "cell_type": "markdown",
   "metadata": {},
   "source": [
    "## Exercise 12: Multiclass Classification\n",
    "\n",
    "- With [exercise12_MulticlassClassification_CategoricalCrossentropy.ipynb](exercise12_MulticlassClassification_CategoricalCrossentropy.ipynb) we expand the example [exercise11_binary_logistic_regression_tf_with_hidden_layers.py](exercise11_binary_logistic_regression_tf_with_hidden_layers.py) towards **classification of more than two classes** using **softmax activation** function in the output layer\n",
    "\n",
    "- With [exercise12_HyperParameterTuning.ipynb](exercise12_HyperParameterTuning.ipynb) we introduce\n",
    "    - data split into train, validate, test data sets\n",
    "    - hyper parameter tuning  \n",
    "    - one hot encoding\n",
    "    - training of best model with re-set weights using train / val data set\n",
    "    - final prediction on unseen test data set compared to predictions on train / val data sets\n",
    "    - confusion matrix and visualization of predictions\n",
    "    \n",
    "- Finally we apply all this to a music genre classification application in [exercise12_MusicGenreClassification.ipynb](exercise12_MusicGenreClassification.ipynb)\n",
    "    - feature design (loudness, crest, peak, rms, spectral weight)\n",
    "    - feature inspection / avoiding NaNs\n",
    "    - feature normalization\n",
    "    - balancing data set wrt class occurence\n",
    "    \n",
    "We could move on with dropout layers, regularization..."
   ]
  },
  {
   "cell_type": "markdown",
   "metadata": {},
   "source": [
    "## Exercise 13: CNN\n",
    "\n",
    "TBD\n",
    "\n",
    "[exercise13_CNN.py](exercise13_CNN.py)"
   ]
  },
  {
   "cell_type": "markdown",
   "metadata": {},
   "source": [
    "## Textbook Recommendations\n",
    "\n",
    "- Gilbert **Strang**: *Linear Algebra and Learning from Data*, Wellesley, 2019, consider to buy your own copy of this brilliant book\n",
    "- Gareth **James**, Daniela Witten, Trevor Hastie, Rob Tibshirani: *An Introduction to Statistical Learning* with Applications in R, Springer, 2nd ed., 2021, [free pdf e-book](https://www.statlearning.com/)\n",
    "- Trevor **Hastie**, Robert Tibshirani, Jerome Friedman: *The Elements of  Statistical Learning: Data Mining, Inference, and Prediction*, Springer, 2nd ed., 2009, [free pdf e-book](https://hastie.su.domains/ElemStatLearn/)\n",
    "- Sergios **Theodoridis**: *Machine Learning*, Academic Press, 2nd ed., 2020, check your university library service for free pdf e-book\n",
    "- Kevin P. **Murphy**: *Machine Learning*, MIT Press, 2012, check your university library service for free pdf e-book\n",
    "- Marc Peter **Deisenroth**, A. Aldo Faisal, Cheng Soon Ong: *Mathemathics for Machine Learning*, Cambridge University Press, 2020, [free pdf e-book](https://mml-book.github.io/)\n",
    "- Steven L. **Brunton**, J. Nathan Kutz: *Data Driven Science & Engineering - Machine Learning, Dynamical Systems, and Control*, Cambridge University Press, 2020, check your university library service for free pdf e-book\n",
    "- Aurélien **Géron**: *Hands-on machine learning with Scikit-Learn, Keras and TensorFlow*. O’Reilly, 2nd ed., 2019\n",
    "\n",
    "## Open Course Ware Recommendations\n",
    "\n",
    "- Online Course by Andrew **Ng** et al. at https://www.coursera.org/ and https://www.deeplearning.ai/\n",
    "- Online Course by Gilbert **Strang** et al. at https://ocw.mit.edu/courses/mathematics/18-065-matrix-methods-in-data-analysis-signal-processing-and-machine-learning-spring-2018/\n",
    "- Online Course/Material by Aurélien **Géron** https://github.com/ageron\n",
    "- Online Course by Meinard **Müller** https://www.audiolabs-erlangen.de/resources/MIR/FMP/B/B_GetStarted.html (focus on music information retrieval)\n"
   ]
  },
  {
   "cell_type": "markdown",
   "metadata": {},
   "source": [
    "## Autorship\n",
    "\n",
    "- University of Rostock\n",
    "  - Frank Schultz\n",
    "  - Sascha Spors\n"
   ]
  },
  {
   "cell_type": "markdown",
   "metadata": {},
   "source": [
    "## Copyright\n",
    "\n",
    "- the notebooks are provided as [Open Educational Resources](https://en.wikipedia.org/wiki/Open_educational_resources)\n",
    "- feel free to use the notebooks for your own purposes\n",
    "- the text is licensed under [Creative Commons Attribution 4.0](https://creativecommons.org/licenses/by/4.0/)\n",
    "- the code of the IPython examples is licensed under under the [MIT license](https://opensource.org/licenses/MIT)\n",
    "- please attribute the work as follows: *Frank Schultz, Data Driven Audio Signal Processing - A Tutorial Featuring Computational Examples, University of Rostock* ideally with relevant file(s), github URL https://github.com/spatialaudio/data-driven-audio-signal-processing-exercise, commit number and/or version tag, year.\n"
   ]
  }
 ],
 "metadata": {
  "kernelspec": {
   "display_name": "myddasp",
   "language": "python",
   "name": "myddasp"
  },
  "language_info": {
   "codemirror_mode": {
    "name": "ipython",
    "version": 3
   },
   "file_extension": ".py",
   "mimetype": "text/x-python",
   "name": "python",
   "nbconvert_exporter": "python",
   "pygments_lexer": "ipython3",
   "version": "3.9.7"
  }
 },
 "nbformat": 4,
 "nbformat_minor": 4
}
