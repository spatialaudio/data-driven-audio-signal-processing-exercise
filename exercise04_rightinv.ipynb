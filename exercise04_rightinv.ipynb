{
 "cells": [
  {
   "cell_type": "markdown",
   "metadata": {},
   "source": [
    "Sascha Spors,\n",
    "Professorship Signal Theory and Digital Signal Processing,\n",
    "Institute of Communications Engineering (INT),\n",
    "Faculty of Computer Science and Electrical Engineering (IEF),\n",
    "University of Rostock,\n",
    "Germany\n",
    "\n",
    "# Data Driven Audio Signal Processing - A Tutorial with Computational Examples\n",
    "\n",
    "Winter Semester 2021/22 (Master Course #24512)\n",
    "\n",
    "- lecture: https://github.com/spatialaudio/data-driven-audio-signal-processing-lecture\n",
    "- tutorial: https://github.com/spatialaudio/data-driven-audio-signal-processing-exercise\n",
    "\n",
    "Feel free to contact lecturer frank.schultz@uni-rostock.de"
   ]
  },
  {
   "cell_type": "markdown",
   "metadata": {},
   "source": [
    "# Exercise 4: SVD and Right Matrix Inverse\n",
    "\n",
    "## Objectives\n",
    "\n",
    "- SVD for flat/fat, full row rank matrix\n",
    "- Four subspaces in SVD domain\n",
    "- Projection matrices\n",
    "- Right inverse\n",
    "\n",
    "## Special Python Packages\n",
    "\n",
    "Some convenient functions are found in `scipy.linalg`, some in `numpy.linalg` "
   ]
  },
  {
   "cell_type": "markdown",
   "metadata": {},
   "source": [
    "## Some Initial Python Stuff"
   ]
  },
  {
   "cell_type": "code",
   "execution_count": 60,
   "metadata": {},
   "outputs": [],
   "source": [
    "import numpy as np\n",
    "from scipy.linalg import svd, diagsvd, inv, pinv, null_space, norm\n",
    "from numpy.linalg import matrix_rank\n",
    "\n",
    "np.set_printoptions(precision=2, floatmode='fixed', suppress=True)\n",
    "\n",
    "rng = np.random.default_rng(1234)\n",
    "mean, stdev = 0, 1\n",
    "\n",
    "# we might try out that this all works for complex data, complex vector spaces as well\n",
    "# for complex data ^H operator (conj().T) needs used instead of transpose only!!!\n",
    "use_complex = False"
   ]
  },
  {
   "cell_type": "markdown",
   "metadata": {},
   "source": [
    "## SVD of Matrix A"
   ]
  },
  {
   "cell_type": "code",
   "execution_count": 61,
   "metadata": {},
   "outputs": [
    {
     "name": "stdout",
     "output_type": "stream",
     "text": [
      "desired rank of A: 3\n",
      "        rank of A: 3\n",
      "flat/fat matrix with full row rank\n",
      "-> matrix U contains only the column space\n",
      "-> left null space is only the zero vector\n",
      "A =\n",
      " [[-0.82 -0.55 -3.47  2.14 -2.40  2.22 -0.20]\n",
      " [-0.19 -1.09 -2.40  0.46  2.37  0.06 -1.78]\n",
      " [-1.71  2.56  4.43 -1.51 -0.77 -2.49  0.38]]\n"
     ]
    }
   ],
   "source": [
    "M = 3  # number of rows\n",
    "N = 7  # number of cols\n",
    "\n",
    "rank = min(M, N)  # set desired rank == full column rank == independent columns\n",
    "print('desired rank of A:', rank)\n",
    "\n",
    "if use_complex:\n",
    "    dtype = 'complex128'\n",
    "    A = np.zeros([M, N], dtype=dtype)\n",
    "    for i in range(rank):\n",
    "        col = rng.normal(mean, stdev, M) + 1j*rng.normal(mean, stdev, M)\n",
    "        row = rng.normal(mean, stdev, N) + 1j*rng.normal(mean, stdev, N)\n",
    "        A += np.outer(col, row)\n",
    "else:\n",
    "    dtype = 'float64'\n",
    "    A = np.zeros([M, N], dtype=dtype)\n",
    "    for i in range(rank):\n",
    "        col = rng.normal(mean, stdev, M)\n",
    "        row = rng.normal(mean, stdev, N)\n",
    "        A += np.outer(col, row)\n",
    "# check if rng produced desired rank\n",
    "print('        rank of A:', matrix_rank(A))\n",
    "print('flat/fat matrix with full row rank')\n",
    "print('-> matrix U contains only the column space')\n",
    "print('-> left null space is only the zero vector')\n",
    "print('A =\\n', A)"
   ]
  },
  {
   "cell_type": "code",
   "execution_count": 62,
   "metadata": {},
   "outputs": [
    {
     "name": "stdout",
     "output_type": "stream",
     "text": [
      "U =\n",
      " [[-0.56  0.71  0.43]\n",
      " [-0.33 -0.66  0.67]\n",
      " [ 0.76  0.23  0.60]]\n",
      "S =\n",
      " [[7.87 0.00 0.00 0.00 0.00 0.00 0.00]\n",
      " [0.00 4.06 0.00 0.00 0.00 0.00 0.00]\n",
      " [0.00 0.00 2.07 0.00 0.00 0.00 0.00]]\n",
      "V =\n",
      " [[-0.10 -0.21 -0.73  0.22 -0.03 -0.22 -0.56]\n",
      " [ 0.33  0.23  0.28  0.04  0.71 -0.10 -0.49]\n",
      " [ 0.78  0.04 -0.20  0.31 -0.21  0.46  0.05]\n",
      " [-0.32  0.22  0.15  0.90  0.06 -0.00  0.13]\n",
      " [-0.00 -0.85  0.05  0.13  0.42  0.17  0.22]\n",
      " [-0.40  0.24 -0.25 -0.16  0.27  0.78 -0.08]\n",
      " [ 0.13  0.28 -0.51 -0.06  0.44 -0.29  0.61]]\n",
      "non-zero singular values:  [7.87 4.06 2.07]\n"
     ]
    }
   ],
   "source": [
    "[U, s, Vh] = svd(A)\n",
    "S = diagsvd(s, M, N)\n",
    "V = Vh.conj().T\n",
    "\n",
    "print('U =\\n', U)\n",
    "# number of non-zero sing values along diag must match rank\n",
    "print('S =\\n', S)\n",
    "print('V =\\n', V)\n",
    "print('non-zero singular values: ', s[:rank])"
   ]
  },
  {
   "cell_type": "markdown",
   "metadata": {},
   "source": [
    "## Four Subspaces in SVD Domain\n",
    "\n",
    "\n",
    "\n",
    "TBD:\n",
    "The null space $N(\\mathbf{A})$ of the tall/thin, full column rank matrix $\\mathbf{A}$ is only $\\mathbf{0}$, i.e. $N(\\mathbf{A})=\\mathbf{0}$. Except for $\\mathbf{x}=\\mathbf{0}$ all other $\\mathbf{x}$ are mapped to the column space $C(\\mathbf{A})$. This, however, requires, that the $\\mathbf{V}$ matrix completely spans the row space and no $\\mathbf{v}$ vectors span a dedicated null space.\n",
    "\n",
    "The tall/thin, full column rank matrix $\\mathbf{A}$ spans a rather large left null space $N(\\mathbf{A}^\\mathrm{H})$ with dimension $M-\\mathrm{rank}(A)$.\n",
    "\n",
    "We, therefore, here deal with a linear set of equations with **more equations than unknowns** ($M>N$, more rows than columns) , i.e. the **over-determined** case. For this case, we can find a solution in **least-sqaures** sense by help of the **left inverse** as discussed below."
   ]
  },
  {
   "cell_type": "code",
   "execution_count": 63,
   "metadata": {},
   "outputs": [
    {
     "name": "stdout",
     "output_type": "stream",
     "text": [
      "U =\n",
      " [[-0.56  0.71  0.43]\n",
      " [-0.33 -0.66  0.67]\n",
      " [ 0.76  0.23  0.60]]\n",
      "\n",
      "column space (orthogonal to left null space):\n",
      "[[-0.56  0.71  0.43]\n",
      " [-0.33 -0.66  0.67]\n",
      " [ 0.76  0.23  0.60]]\n",
      "left null space (orthogonal to column space):\n",
      "[]\n",
      "###\n",
      "\n",
      "V =\n",
      " [[-0.10 -0.21 -0.73  0.22 -0.03 -0.22 -0.56]\n",
      " [ 0.33  0.23  0.28  0.04  0.71 -0.10 -0.49]\n",
      " [ 0.78  0.04 -0.20  0.31 -0.21  0.46  0.05]\n",
      " [-0.32  0.22  0.15  0.90  0.06 -0.00  0.13]\n",
      " [-0.00 -0.85  0.05  0.13  0.42  0.17  0.22]\n",
      " [-0.40  0.24 -0.25 -0.16  0.27  0.78 -0.08]\n",
      " [ 0.13  0.28 -0.51 -0.06  0.44 -0.29  0.61]]\n",
      "\n",
      "row space (orthogonal to null space):\n",
      "[[-0.10 -0.21 -0.73]\n",
      " [ 0.33  0.23  0.28]\n",
      " [ 0.78  0.04 -0.20]\n",
      " [-0.32  0.22  0.15]\n",
      " [-0.00 -0.85  0.05]\n",
      " [-0.40  0.24 -0.25]\n",
      " [ 0.13  0.28 -0.51]]\n",
      "null space (orthogonal to row space):\n",
      "[[ 0.22 -0.03 -0.22 -0.56]\n",
      " [ 0.04  0.71 -0.10 -0.49]\n",
      " [ 0.31 -0.21  0.46  0.05]\n",
      " [ 0.90  0.06 -0.00  0.13]\n",
      " [ 0.13  0.42  0.17  0.22]\n",
      " [-0.16  0.27  0.78 -0.08]\n",
      " [-0.06  0.44 -0.29  0.61]]\n"
     ]
    }
   ],
   "source": [
    "# all stuff that is in matrix U\n",
    "print('U =\\n', U)\n",
    "\n",
    "# Column Space C(A)\n",
    "print('\\ncolumn space (orthogonal to left null space):')\n",
    "print(U[:, :rank])\n",
    "\n",
    "# Left Null Space, if empty only 0 vector\n",
    "print('left null space (orthogonal to column space):')\n",
    "print(U[:, rank:])  # for full row rank this is only the zero vector\n",
    "\n",
    "print('###')\n",
    "\n",
    "# all stuff that is in matrix V\n",
    "print('\\nV =\\n', V)\n",
    "\n",
    "# Row Space\n",
    "print('\\nrow space (orthogonal to null space):')\n",
    "print(V[:, :rank])\n",
    "\n",
    "# Null Space N(A), if empty only 0 vector\n",
    "print('null space (orthogonal to row space):')\n",
    "print(V[:, rank:])"
   ]
  },
  {
   "cell_type": "markdown",
   "metadata": {},
   "source": [
    "## Right Inverse via SVD"
   ]
  },
  {
   "cell_type": "code",
   "execution_count": 64,
   "metadata": {},
   "outputs": [
    {
     "name": "stdout",
     "output_type": "stream",
     "text": [
      "Inverse singular value matrix with lower zero block\n",
      "Si =\n",
      " [[0.13 0.00 0.00]\n",
      " [0.00 0.25 0.00]\n",
      " [0.00 0.00 0.48]\n",
      " [0.00 0.00 0.00]\n",
      " [0.00 0.00 0.00]\n",
      " [0.00 0.00 0.00]\n",
      " [0.00 0.00 0.00]]\n",
      "pinv() == inverse SVD? True\n",
      "S @ Si = \n",
      " [[1.00 0.00 0.00]\n",
      " [0.00 1.00 0.00]\n",
      " [0.00 0.00 1.00]] \n",
      "yields MxM identity matrix\n",
      "A @ Ari = \n",
      " [[ 1.00 -0.00 -0.00]\n",
      " [-0.00  1.00 -0.00]\n",
      " [-0.00 -0.00  1.00]] \n",
      "yields MxM identity matrix\n"
     ]
    }
   ],
   "source": [
    "Si = diagsvd(1/s, N, M)  # works if array s has only non-zero entries\n",
    "print('Inverse singular value matrix with lower zero block')\n",
    "print('Si =\\n', Si)\n",
    "# right inverse using 'inverse' SVD:\n",
    "Ari = V @ Si @ U.conj().T\n",
    "# right inverse using a dedicated pinv algorithm\n",
    "# proper choice is done by pinv() itself\n",
    "Ari_pinv = pinv(A)\n",
    "print('pinv() == inverse SVD?', np.allclose(Ari, Ari_pinv))\n",
    "print('S @ Si = \\n', S @ Si, '\\nyields MxM identity matrix')\n",
    "print('A @ Ari = \\n', A @ Ari, '\\nyields MxM identity matrix')"
   ]
  },
  {
   "cell_type": "markdown",
   "metadata": {},
   "source": [
    "## Projection Matrices for the Left Inverse Problem"
   ]
  },
  {
   "cell_type": "code",
   "execution_count": 65,
   "metadata": {},
   "outputs": [
    {
     "name": "stdout",
     "output_type": "stream",
     "text": [
      "P_CAH projects V-space stuff to row space:\n",
      " [-0.10  0.33  0.78 -0.32 -0.00 -0.40  0.13] == [-0.10  0.33  0.78 -0.32 -0.00 -0.40  0.13]\n",
      "P_CA is projection a column space vector onto itself:\n",
      " [-0.56 -0.33  0.76] == [-0.56 -0.33  0.76]\n",
      "P_NA projects V-space stuff to null space:\n",
      " [ 0.22  0.04  0.31  0.90  0.13 -0.16 -0.06] == [ 0.22  0.04  0.31  0.90  0.13 -0.16 -0.06]\n"
     ]
    }
   ],
   "source": [
    "v_row = V[:,0]\n",
    "v_null = V[:,rank]\n",
    "v_tmp = v_row + v_null\n",
    "\n",
    "# projection onto row space\n",
    "P_CAH = Ari @ A\n",
    "print('P_CAH projects V-space stuff to row space:\\n', P_CAH @ (v_tmp), '==', v_row)\n",
    "\n",
    "# projection onto column space\n",
    "# full rank and identity since we dont have a left null space\n",
    "# so each column space vector is projected onto itself\n",
    "P_CA = A @ Ari  #  = I_MxM\n",
    "print('P_CA is projection a column space vector onto itself:\\n', P_CA @ U[:,0], '==', U[:,0])\n",
    "\n",
    "# projection onto null space, for flat/fat this space might be very large\n",
    "P_NA = np.eye(N,N) - P_CAH\n",
    "print('P_NA projects V-space stuff to null space:\\n', P_NA @ (v_tmp), '==', v_null)\n",
    "\n",
    "# projection onto left null space\n",
    "P_NAH = np.eye(M,M) - P_CA  # == null matrix"
   ]
  },
  {
   "cell_type": "markdown",
   "metadata": {},
   "source": [
    "## Copyright\n",
    "\n",
    "- the notebooks are provided as [Open Educational Resources](https://en.wikipedia.org/wiki/Open_educational_resources)\n",
    "- feel free to use the notebooks for your own purposes\n",
    "- the text is licensed under [Creative Commons Attribution 4.0](https://creativecommons.org/licenses/by/4.0/)\n",
    "- the code of the IPython examples is licensed under under the [MIT license](https://opensource.org/licenses/MIT)\n",
    "- please attribute the work as follows: *Frank Schultz, Data Driven Audio Signal Processing - A Tutorial Featuring Computational Examples, University of Rostock* ideally with relevant file(s), github URL https://github.com/spatialaudio/data-driven-audio-signal-processing-exercise, commit number and/or version tag, year.\n"
   ]
  }
 ],
 "metadata": {
  "interpreter": {
   "hash": "1743232f157dd0954c61aae30535e75a2972519a625c7e796bafe0cd9a07bf7e"
  },
  "kernelspec": {
   "display_name": "myddasp",
   "language": "python",
   "name": "myddasp"
  },
  "language_info": {
   "codemirror_mode": {
    "name": "ipython",
    "version": 3
   },
   "file_extension": ".py",
   "mimetype": "text/x-python",
   "name": "python",
   "nbconvert_exporter": "python",
   "pygments_lexer": "ipython3",
   "version": "3.9.7"
  }
 },
 "nbformat": 4,
 "nbformat_minor": 4
}
