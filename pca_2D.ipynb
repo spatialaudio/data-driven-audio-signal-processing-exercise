{
 "cells": [
  {
   "cell_type": "markdown",
   "id": "4ff5888c",
   "metadata": {},
   "source": [
    "Sascha Spors,\n",
    "Professorship Signal Theory and Digital Signal Processing,\n",
    "Institute of Communications Engineering (INT),\n",
    "Faculty of Computer Science and Electrical Engineering (IEF),\n",
    "University of Rostock,\n",
    "Germany\n",
    "\n",
    "# Data Driven Audio Signal Processing - A Tutorial with Computational Examples\n",
    "\n",
    "Master Course #24512\n",
    "\n",
    "- lecture: https://github.com/spatialaudio/data-driven-audio-signal-processing-lecture\n",
    "- tutorial: https://github.com/spatialaudio/data-driven-audio-signal-processing-exercise\n",
    "\n",
    "Feel free to contact lecturer frank.schultz@uni-rostock.de"
   ]
  },
  {
   "cell_type": "markdown",
   "id": "dcd5fabd",
   "metadata": {},
   "source": [
    "# Principal Component Analysis (PCA)\n",
    "\n",
    "Example in 2D, data matrix with M samples in 2 features"
   ]
  },
  {
   "cell_type": "code",
   "execution_count": null,
   "id": "b3a028b6",
   "metadata": {},
   "outputs": [],
   "source": [
    "import numpy as np\n",
    "import matplotlib.pyplot as plt\n",
    "from scipy.linalg import svd, diagsvd\n",
    "from statsmodels.multivariate.pca import PCA"
   ]
  },
  {
   "cell_type": "markdown",
   "id": "48443673",
   "metadata": {},
   "source": [
    "## Create Data and Plot in Original Coordinate System"
   ]
  },
  {
   "cell_type": "code",
   "execution_count": null,
   "id": "09b253b3",
   "metadata": {},
   "outputs": [],
   "source": [
    "rng = np.random.default_rng(1)  # be careful when changing seed\n",
    "# SVD U and V vectors might then need reflections\n",
    "# to match with statsmodels results\n",
    "\n",
    "# construct 2 features somehow linearly related drawn from normal PDF\n",
    "# PCA assumes mean-free columns, we can design them this way:\n",
    "mean = [0, 0]  # mean-free data\n",
    "cov = [[2, 0.8], [0.8, 1]]\n",
    "M = 200  # no of samples\n",
    "x, y = rng.multivariate_normal(mean, cov, M).T\n",
    "X = np.array([x, y]).T\n",
    "# center data to origin, remove mean\n",
    "X = X - np.mean(X, axis=0)\n",
    "N = X.shape[1]\n",
    "\n",
    "print(\"rank\", np.linalg.matrix_rank(X))\n",
    "print(\"X.shape\", X.shape)\n",
    "\n",
    "# index for specific data points to plot with specific colors\n",
    "# this helps to identify potential reflections of U and V space vectors\n",
    "di1 = 12\n",
    "di2 = 91\n",
    "# print(np.where(X[:, 0] > 4))\n",
    "# print(np.where(X[:, 1] > 2.5))\n",
    "\n",
    "plt.plot(X[:, 0], X[:, 1], \"x\")\n",
    "plt.plot(X[di1, 0], X[di1, 1], \"C1x\")\n",
    "plt.plot(X[di2, 0], X[di2, 1], \"C3x\")\n",
    "plt.axis(\"square\")\n",
    "plt.xlim(-5, 5)\n",
    "plt.ylim(-5, 5)\n",
    "plt.xlabel(\"feature 1\")\n",
    "plt.ylabel(\"feature 2\")\n",
    "plt.title(\"original data in original coordinate system\")\n",
    "plt.grid(True)"
   ]
  },
  {
   "cell_type": "markdown",
   "id": "35eff801",
   "metadata": {},
   "source": [
    "## Calculate Principal Component Analysis (PCA)"
   ]
  },
  {
   "cell_type": "code",
   "execution_count": null,
   "id": "5ba3fd23",
   "metadata": {},
   "outputs": [],
   "source": [
    "# we work on matrix X directly (so standardize=False), and we already\n",
    "# made it mean free (so demean=False), normalize=False to give us\n",
    "# data that is nicely connected to SVD data\n",
    "# from statsmodels.multivariate.pca\n",
    "pca = PCA(X, ncomp=2, standardize=False, demean=False, normalize=False)\n",
    "# using SVD\n",
    "[U, s, Vh] = svd(X, full_matrices=False)\n",
    "S = diagsvd(s, N, N)\n",
    "V = Vh.conj().T\n",
    "\n",
    "# we use abbreviation PC for 'principal component'\n",
    "\n",
    "pcs = U @ S  # known as PC, PC signals, factors, scores\n",
    "pcl = V  # known PC loadings, PC coefficients\n",
    "# note that sometimes V.T is called loadings, coefficients\n",
    "# check if statsmodels and our manual SVD are same:\n",
    "print(np.allclose(pca.scores, pcs))\n",
    "print(np.allclose(pca.coeff.T, V))"
   ]
  },
  {
   "cell_type": "markdown",
   "id": "8f3ca3f8",
   "metadata": {},
   "source": [
    "## Indicate the Directions of the PCs"
   ]
  },
  {
   "cell_type": "code",
   "execution_count": null,
   "id": "d0cde702",
   "metadata": {},
   "outputs": [],
   "source": [
    "plt.plot(X[:, 0], X[:, 1], \"x\")\n",
    "plt.plot(X[di1, 0], X[di1, 1], \"C1x\")\n",
    "plt.plot(X[di2, 0], X[di2, 1], \"C3x\")\n",
    "\n",
    "# draw direction of first PC axis -> this is the first col vec of V\n",
    "plt.plot(\n",
    "    [0, V[0, 0]],\n",
    "    [0, V[1, 0]],\n",
    "    \"C6\",\n",
    "    lw=3,\n",
    "    label=\"direction of 1st PC == 1st col in V, 1st right sing vec\",\n",
    ")\n",
    "# draw direction of second PC axis -> this is the second col vec of V\n",
    "plt.plot(\n",
    "    [0, V[0, 1]],\n",
    "    [0, V[1, 1]],\n",
    "    \"C7\",\n",
    "    lw=3,\n",
    "    label=\"direction of 2nd PC == 2nd col in V, 2nd right sing vec\",\n",
    ")\n",
    "\n",
    "plt.axis(\"square\")\n",
    "plt.xlim(-5, 5)\n",
    "plt.ylim(-5, 5)\n",
    "plt.xlabel(\"feature 1\")\n",
    "plt.ylabel(\"feature 2\")\n",
    "plt.title(\"data in feature coordinate system\")\n",
    "plt.legend()\n",
    "plt.grid(True)"
   ]
  },
  {
   "cell_type": "markdown",
   "id": "887835b8",
   "metadata": {},
   "source": [
    "## Plot in PC Coordinate System"
   ]
  },
  {
   "cell_type": "code",
   "execution_count": null,
   "id": "250e1ab0",
   "metadata": {},
   "outputs": [],
   "source": [
    "plt.plot(pcs[:, 0], pcs[:, 1], \"x\")\n",
    "plt.plot(pcs[di1, 0], pcs[di1, 1], \"C1x\")\n",
    "plt.plot(pcs[di2, 0], pcs[di2, 1], \"C3x\")\n",
    "\n",
    "# draw direction of first PC axis\n",
    "plt.plot([0, 1], [0, 0], \"C6\", lw=3, label=\"direction of 1st PC\")\n",
    "# draw direction of second PC axis\n",
    "# works as we have no reflection in U/V\n",
    "plt.plot([0, 0], [0, 1], \"C7\", lw=3, label=\"direction of 2nd PC\")\n",
    "\n",
    "plt.axis(\"square\")\n",
    "plt.xlim(-5, 5)\n",
    "plt.ylim(-5, 5)\n",
    "plt.xlabel(\"PC 1\")\n",
    "plt.ylabel(\"PC 2\")\n",
    "plt.title(\"data in PC coordinate system\")\n",
    "plt.legend()\n",
    "plt.grid(True)"
   ]
  },
  {
   "cell_type": "code",
   "execution_count": null,
   "id": "0aec81f3",
   "metadata": {},
   "outputs": [],
   "source": [
    "phi_deg = -np.arccos(V[0, 0]) * 180 / np.pi\n",
    "print(\"rotate the data cloud by \", phi_deg, \"deg\")\n",
    "print(\"to get to the here shown PC coordinate system\")\n",
    "# note that the chosen example does not involve a reflection!\n",
    "# therefore only rotation is involved"
   ]
  },
  {
   "cell_type": "markdown",
   "id": "83515671",
   "metadata": {},
   "source": [
    "For rank r data matrix, the data is rotated (and potentially reflected in some axes) such that along the axis of PC 1 most variance occurs (most data spread), whereas along the axis of the r-th PC (last PC, here in the case it is PC2) has fewest variance.\n",
    "Generally, var(PC1)>var(PC2)>...>var(PCr) just as the sorting of the singular values in the SVD. Recall how we calculated `pcs`..."
   ]
  },
  {
   "cell_type": "markdown",
   "id": "4780c200",
   "metadata": {},
   "source": [
    "## Variances"
   ]
  },
  {
   "cell_type": "code",
   "execution_count": null,
   "id": "9c3c5673",
   "metadata": {},
   "outputs": [],
   "source": [
    "print(np.var(pcs[:, 0], ddof=1))\n",
    "print(np.var(pcs[:, 1], ddof=1))"
   ]
  },
  {
   "cell_type": "markdown",
   "id": "57dd72eb",
   "metadata": {},
   "source": [
    "We compare this to original features"
   ]
  },
  {
   "cell_type": "code",
   "execution_count": null,
   "id": "048ae75a",
   "metadata": {},
   "outputs": [],
   "source": [
    "print(np.var(X[:, 0], ddof=1))\n",
    "print(np.var(X[:, 1], ddof=1))"
   ]
  },
  {
   "cell_type": "markdown",
   "id": "acc9dc56",
   "metadata": {},
   "source": [
    "Note, that we don't lose variance, we just distribute them in another way."
   ]
  },
  {
   "cell_type": "code",
   "execution_count": null,
   "id": "2f3d7d02",
   "metadata": {},
   "outputs": [],
   "source": [
    "print(np.var(pcs[:, 0], ddof=1) + np.var(pcs[:, 1], ddof=1))\n",
    "print(np.var(X[:, 0], ddof=1) + np.var(X[:, 1], ddof=1))"
   ]
  },
  {
   "cell_type": "markdown",
   "id": "fa963757",
   "metadata": {},
   "source": [
    "That's the fundamental idea of shaping the data to re-sort variances, here using the special case of PCA, i.e. projection of data onto vector of an orthonormal basis...our well known column space spanned in U matrix of the SVD. Variance is explained by their corresponding singular values. Recall how we calculated `pcs`...\n",
    "\n",
    "1st PC signal explains 82.37 % of total variance:"
   ]
  },
  {
   "cell_type": "code",
   "execution_count": null,
   "id": "cc848c23",
   "metadata": {},
   "outputs": [],
   "source": [
    "np.var(pcs[:, 0], ddof=1) / (\n",
    "    np.var(pcs[:, 0], ddof=1) + np.var(pcs[:, 1], ddof=1)\n",
    ")"
   ]
  },
  {
   "cell_type": "markdown",
   "id": "c3c8918b",
   "metadata": {},
   "source": [
    "2nd PC signal explains the remaining 17.63 % of total variance: "
   ]
  },
  {
   "cell_type": "code",
   "execution_count": null,
   "id": "fe7dbc2d",
   "metadata": {},
   "outputs": [],
   "source": [
    "np.var(pcs[:, 1], ddof=1) / (\n",
    "    np.var(pcs[:, 0], ddof=1) + np.var(pcs[:, 1], ddof=1)\n",
    ")"
   ]
  },
  {
   "cell_type": "markdown",
   "id": "8b19e684",
   "metadata": {},
   "source": [
    "## Truncated SVD\n",
    "\n",
    "rank reduction"
   ]
  },
  {
   "cell_type": "code",
   "execution_count": null,
   "id": "ecd2c8d3",
   "metadata": {},
   "outputs": [],
   "source": [
    "r_des = 1\n",
    "\n",
    "# we could make a sum of outer products, i.e. sum of rank-1 matrices\n",
    "X_rank_red = np.zeros((M, N))\n",
    "for i in range(r_des):\n",
    "    # either\n",
    "    # X_rank_red += S[i,i] * U[:,i][:,None] @ V[:,i][:,None].T\n",
    "    # or\n",
    "    X_rank_red += s[i] * np.outer(U[:, i], V[:, i])\n",
    "\n",
    "# we might also use the PC signals and set intended loadings to zero\n",
    "X_rank_red2 = np.zeros((M, N))\n",
    "pcl_rank_red = np.copy(pcl)\n",
    "pcl_rank_red[:, r_des:] = 0\n",
    "X_rank_red2 = pcs @ pcl_rank_red.conj().T\n",
    "\n",
    "np.allclose(X_rank_red, X_rank_red2)"
   ]
  },
  {
   "cell_type": "code",
   "execution_count": null,
   "id": "1ac13ecf",
   "metadata": {},
   "outputs": [],
   "source": [
    "plt.plot(X_rank_red2[:, 0], X_rank_red2[:, 1], \"x\")\n",
    "plt.plot(X_rank_red2[di1, 0], X_rank_red2[di1, 1], \"C1x\", ms=10)\n",
    "plt.plot(X_rank_red2[di2, 0], X_rank_red2[di2, 1], \"C3x\", ms=10)\n",
    "plt.axis(\"square\")\n",
    "plt.xlim(-5, 5)\n",
    "plt.ylim(-5, 5)\n",
    "plt.xlabel(\"new feature 1 for rank reduction\")\n",
    "plt.ylabel(\"new feature 2 for rank reduction\")\n",
    "plt.title(\"rank {0:d} approximation of data\".format(r_des))\n",
    "plt.grid(True)"
   ]
  },
  {
   "cell_type": "markdown",
   "id": "4a621c65",
   "metadata": {},
   "source": [
    "## Dimensionality Reduction after PCA"
   ]
  },
  {
   "cell_type": "code",
   "execution_count": null,
   "id": "17684636",
   "metadata": {},
   "outputs": [],
   "source": [
    "dim_des = 1\n",
    "X_dim_red = np.zeros((M, dim_des))\n",
    "X_dim_red = pcs[:, :dim_des]\n",
    "\n",
    "X_dim_red_plot = np.zeros((M, N))\n",
    "X_dim_red_plot[:, :dim_des] = pcs[:, :dim_des]"
   ]
  },
  {
   "cell_type": "code",
   "execution_count": null,
   "id": "dd7e64c7",
   "metadata": {},
   "outputs": [],
   "source": [
    "# for convenience we plot data here in 2D plot\n",
    "# note however that X_dim_red_plot[:,1] is precisely zero if\n",
    "# dim_des = 1 was chosen\n",
    "# but the dimensionality reduction actually yields a matrix with smaller\n",
    "# dimension, cf. X_dim_red\n",
    "plt.plot(X_dim_red_plot[:, 0], X_dim_red_plot[:, 1], \"x\")\n",
    "plt.plot(X_dim_red_plot[di1, 0], X_dim_red_plot[di1, 1], \"C1x\")\n",
    "plt.plot(X_dim_red_plot[di2, 0], X_dim_red_plot[di2, 1], \"C3x\")\n",
    "\n",
    "# draw direction of first PC axis\n",
    "plt.plot([0, 1], [0, 0], \"C6\", lw=3, label=\"direction of 1st PC\")\n",
    "# draw direction of second PC axis\n",
    "plt.plot([0, 0], [0, 1], \"C7\", lw=3, label=\"direction of 2nd PC\")\n",
    "\n",
    "plt.axis(\"square\")\n",
    "plt.xlim(-5, 5)\n",
    "plt.ylim(-5, 5)\n",
    "plt.xlabel(\"PC 1\")\n",
    "plt.ylabel(\"PC 2\")\n",
    "plt.title(\"PCA data dimensionality reduction to {0:d}D\".format(r_des))\n",
    "plt.legend()\n",
    "plt.grid(True)\n",
    "\n",
    "print(\"reduced to dimension\", X_dim_red.shape)"
   ]
  },
  {
   "cell_type": "markdown",
   "id": "651b1eff",
   "metadata": {},
   "source": [
    "## Copyright\n",
    "\n",
    "- the notebooks are provided as [Open Educational Resources](https://en.wikipedia.org/wiki/Open_educational_resources)\n",
    "- feel free to use the notebooks for your own purposes\n",
    "- the text is licensed under [Creative Commons Attribution 4.0](https://creativecommons.org/licenses/by/4.0/)\n",
    "- the code of the IPython examples is licensed under the [MIT license](https://opensource.org/licenses/MIT)\n",
    "- please attribute the work as follows: *Frank Schultz, Data Driven Audio Signal Processing - A Tutorial Featuring Computational Examples, University of Rostock* ideally with relevant file(s), github URL https://github.com/spatialaudio/data-driven-audio-signal-processing-exercise, commit number and/or version tag, year."
   ]
  }
 ],
 "metadata": {
  "kernelspec": {
   "display_name": "myddasp",
   "language": "python",
   "name": "myddasp"
  },
  "language_info": {
   "codemirror_mode": {
    "name": "ipython",
    "version": 3
   },
   "file_extension": ".py",
   "mimetype": "text/x-python",
   "name": "python",
   "nbconvert_exporter": "python",
   "pygments_lexer": "ipython3",
   "version": "3.10.6"
  }
 },
 "nbformat": 4,
 "nbformat_minor": 5
}
